{
 "cells": [
  {
   "cell_type": "markdown",
   "id": "7b705726-45df-441c-badd-8d808933683a",
   "metadata": {},
   "source": [
    "Numpy Basics Practice Day 1"
   ]
  },
  {
   "cell_type": "code",
   "execution_count": 6,
   "id": "87af4858-fb40-4500-a9ee-1021ef91fcc6",
   "metadata": {},
   "outputs": [],
   "source": [
    "import numpy as np"
   ]
  },
  {
   "cell_type": "code",
   "execution_count": 7,
   "id": "bd37f0df-3ae3-4b5e-93c7-14a44df7279e",
   "metadata": {},
   "outputs": [
    {
     "data": {
      "text/plain": [
       "'1.26.4'"
      ]
     },
     "execution_count": 7,
     "metadata": {},
     "output_type": "execute_result"
    }
   ],
   "source": [
    "np.__version__"
   ]
  },
  {
   "cell_type": "code",
   "execution_count": 8,
   "id": "331f69ea-acad-4766-9621-a5a705733986",
   "metadata": {},
   "outputs": [
    {
     "name": "stdout",
     "output_type": "stream",
     "text": [
      "\n",
      "NumPy\n",
      "=====\n",
      "\n",
      "Provides\n",
      "  1. An array object of arbitrary homogeneous items\n",
      "  2. Fast mathematical operations over arrays\n",
      "  3. Linear Algebra, Fourier Transforms, Random Number Generation\n",
      "\n",
      "How to use the documentation\n",
      "----------------------------\n",
      "Documentation is available in two forms: docstrings provided\n",
      "with the code, and a loose standing reference guide, available from\n",
      "`the NumPy homepage <https://numpy.org>`_.\n",
      "\n",
      "We recommend exploring the docstrings using\n",
      "`IPython <https://ipython.org>`_, an advanced Python shell with\n",
      "TAB-completion and introspection capabilities.  See below for further\n",
      "instructions.\n",
      "\n",
      "The docstring examples assume that `numpy` has been imported as ``np``::\n",
      "\n",
      "  >>> import numpy as np\n",
      "\n",
      "Code snippets are indicated by three greater-than signs::\n",
      "\n",
      "  >>> x = 42\n",
      "  >>> x = x + 1\n",
      "\n",
      "Use the built-in ``help`` function to view a function's docstring::\n",
      "\n",
      "  >>> help(np.sort)\n",
      "  ... # doctest: +SKIP\n",
      "\n",
      "For some objects, ``np.info(obj)`` may provide additional help.  This is\n",
      "particularly true if you see the line \"Help on ufunc object:\" at the top\n",
      "of the help() page.  Ufuncs are implemented in C, not Python, for speed.\n",
      "The native Python help() does not know how to view their help, but our\n",
      "np.info() function does.\n",
      "\n",
      "To search for documents containing a keyword, do::\n",
      "\n",
      "  >>> np.lookfor('keyword')\n",
      "  ... # doctest: +SKIP\n",
      "\n",
      "General-purpose documents like a glossary and help on the basic concepts\n",
      "of numpy are available under the ``doc`` sub-module::\n",
      "\n",
      "  >>> from numpy import doc\n",
      "  >>> help(doc)\n",
      "  ... # doctest: +SKIP\n",
      "\n",
      "Available subpackages\n",
      "---------------------\n",
      "lib\n",
      "    Basic functions used by several sub-packages.\n",
      "random\n",
      "    Core Random Tools\n",
      "linalg\n",
      "    Core Linear Algebra Tools\n",
      "fft\n",
      "    Core FFT routines\n",
      "polynomial\n",
      "    Polynomial tools\n",
      "testing\n",
      "    NumPy testing tools\n",
      "distutils\n",
      "    Enhancements to distutils with support for\n",
      "    Fortran compilers support and more  (for Python <= 3.11).\n",
      "\n",
      "Utilities\n",
      "---------\n",
      "test\n",
      "    Run numpy unittests\n",
      "show_config\n",
      "    Show numpy build configuration\n",
      "matlib\n",
      "    Make everything matrices.\n",
      "__version__\n",
      "    NumPy version string\n",
      "\n",
      "Viewing documentation using IPython\n",
      "-----------------------------------\n",
      "\n",
      "Start IPython and import `numpy` usually under the alias ``np``: `import\n",
      "numpy as np`.  Then, directly past or use the ``%cpaste`` magic to paste\n",
      "examples into the shell.  To see which functions are available in `numpy`,\n",
      "type ``np.<TAB>`` (where ``<TAB>`` refers to the TAB key), or use\n",
      "``np.*cos*?<ENTER>`` (where ``<ENTER>`` refers to the ENTER key) to narrow\n",
      "down the list.  To view the docstring for a function, use\n",
      "``np.cos?<ENTER>`` (to view the docstring) and ``np.cos??<ENTER>`` (to view\n",
      "the source code).\n",
      "\n",
      "Copies vs. in-place operation\n",
      "-----------------------------\n",
      "Most of the functions in `numpy` return a copy of the array argument\n",
      "(e.g., `np.sort`).  In-place versions of these functions are often\n",
      "available as array methods, i.e. ``x = np.array([1,2,3]); x.sort()``.\n",
      "Exceptions to this rule are documented.\n",
      "\n",
      "\n"
     ]
    }
   ],
   "source": [
    "print(np.__doc__)"
   ]
  },
  {
   "cell_type": "markdown",
   "id": "8b015599-3901-4185-827c-ad39c21ea0c6",
   "metadata": {},
   "source": [
    "# Convert List into Array using Numpy\n",
    "## Three ways: np.array, np.asarray, np.asanyarray"
   ]
  },
  {
   "cell_type": "code",
   "execution_count": 12,
   "id": "ca6ae36b-170b-41cd-a149-dd79c16a704c",
   "metadata": {},
   "outputs": [
    {
     "data": {
      "text/plain": [
       "array([1, 2, 3, 4, 5, 6])"
      ]
     },
     "execution_count": 12,
     "metadata": {},
     "output_type": "execute_result"
    }
   ],
   "source": [
    "l=[1,2,3,4,5,6]\n",
    "np.array(l)"
   ]
  },
  {
   "cell_type": "code",
   "execution_count": 13,
   "id": "1f9dcb1a-502c-408e-a20e-8ffddbefbbc6",
   "metadata": {},
   "outputs": [
    {
     "data": {
      "text/plain": [
       "array([1, 2, 3, 4, 5, 6])"
      ]
     },
     "execution_count": 13,
     "metadata": {},
     "output_type": "execute_result"
    }
   ],
   "source": [
    "np.asarray(l)"
   ]
  },
  {
   "cell_type": "code",
   "execution_count": 14,
   "id": "8c08f556-2a42-45cc-ab3f-bcaaef23fd1c",
   "metadata": {},
   "outputs": [
    {
     "data": {
      "text/plain": [
       "array([1, 2, 3, 4, 5, 6])"
      ]
     },
     "execution_count": 14,
     "metadata": {},
     "output_type": "execute_result"
    }
   ],
   "source": [
    "np.asanyarray(l)"
   ]
  },
  {
   "cell_type": "markdown",
   "id": "837ce110-975a-4157-8685-c2a50d9e1fc1",
   "metadata": {},
   "source": [
    "# Type- DataType of numpy array and check dimension"
   ]
  },
  {
   "cell_type": "code",
   "execution_count": 15,
   "id": "b0640714-f102-4553-9f84-803158d52fdc",
   "metadata": {},
   "outputs": [
    {
     "data": {
      "text/plain": [
       "numpy.ndarray"
      ]
     },
     "execution_count": 15,
     "metadata": {},
     "output_type": "execute_result"
    }
   ],
   "source": [
    "type(np.array(l))"
   ]
  },
  {
   "cell_type": "code",
   "execution_count": 22,
   "id": "eca86f4d-89ba-4804-8ae0-dce355c511df",
   "metadata": {},
   "outputs": [
    {
     "name": "stdout",
     "output_type": "stream",
     "text": [
      "1\n"
     ]
    },
    {
     "data": {
      "text/plain": [
       "array([1, 2, 3, 4, 5, 6])"
      ]
     },
     "execution_count": 22,
     "metadata": {},
     "output_type": "execute_result"
    }
   ],
   "source": [
    "a=np.array(l)\n",
    "print(a.ndim)\n",
    "a"
   ]
  },
  {
   "cell_type": "code",
   "execution_count": 26,
   "id": "f619d428-091a-48aa-9ba8-58300dcc14e5",
   "metadata": {},
   "outputs": [
    {
     "data": {
      "text/plain": [
       "array(['1', '2', '3', '4', '5', 'Rishi'], dtype='<U11')"
      ]
     },
     "execution_count": 26,
     "metadata": {},
     "output_type": "execute_result"
    }
   ],
   "source": [
    "l = [1, 2, 3, 4, 5, \"Rishi\"]\n",
    "arr1 = np.array(l)\n",
    "#here as there is string present in the list that is being converted into array so datatype of each element in the array is converted to string\n",
    "arr1"
   ]
  },
  {
   "cell_type": "markdown",
   "id": "8c43a96d-2e2d-4783-99b4-136247f6065f",
   "metadata": {},
   "source": [
    "# 2 D Array"
   ]
  },
  {
   "cell_type": "code",
   "execution_count": 32,
   "id": "c021c868-157c-4e19-a8c3-71c9b4a1e9d1",
   "metadata": {},
   "outputs": [
    {
     "name": "stdout",
     "output_type": "stream",
     "text": [
      "[[1 2 3]\n",
      " [4 5 6]\n",
      " [7 8 9]]\n",
      "2\n",
      "<class 'numpy.ndarray'>\n",
      "[['1' '2' 'stree']\n",
      " ['4' '5' '6']\n",
      " ['7' '8' '9']]\n",
      "2\n",
      "<class 'numpy.ndarray'>\n"
     ]
    }
   ],
   "source": [
    "l =[[1,2,3],[4,5,6],[7,8,9]]\n",
    "s=[[1,2,'stree'],[4,5,6],[7,8,9]]\n",
    "a=np.array(l)\n",
    "b=np.array(s)\n",
    "print(a)\n",
    "print(a.ndim)\n",
    "print(type(a))\n",
    "print(b)\n",
    "print(b.ndim)\n",
    "print(type(b))"
   ]
  },
  {
   "cell_type": "markdown",
   "id": "8c3fdf67-e37c-43c4-b243-7ea9c2c6fba2",
   "metadata": {},
   "source": [
    "# Convert a list into Matrix\n",
    "## Matrix by default is a 2D array\n",
    "### Matrix is subset of array"
   ]
  },
  {
   "cell_type": "code",
   "execution_count": 33,
   "id": "9bec751f-0669-4748-b111-728881dc50bb",
   "metadata": {},
   "outputs": [
    {
     "name": "stdout",
     "output_type": "stream",
     "text": [
      "[[1 2 3 4]]\n",
      "2\n"
     ]
    }
   ],
   "source": [
    "l=[1,2,3,4]\n",
    "mat=np.matrix(l)\n",
    "print(mat)\n",
    "print(mat.ndim)"
   ]
  },
  {
   "cell_type": "code",
   "execution_count": 34,
   "id": "4f499a81-77e9-460f-806b-3380da9dba34",
   "metadata": {},
   "outputs": [],
   "source": [
    "# will throw error when a 3d list is converted to matrix but in case of np.array the same will work"
   ]
  },
  {
   "cell_type": "code",
   "execution_count": 35,
   "id": "2179b661-7561-41a5-befb-9463f2b52bcb",
   "metadata": {},
   "outputs": [
    {
     "ename": "ValueError",
     "evalue": "matrix must be 2-dimensional",
     "output_type": "error",
     "traceback": [
      "\u001b[1;31m---------------------------------------------------------------------------\u001b[0m",
      "\u001b[1;31mValueError\u001b[0m                                Traceback (most recent call last)",
      "Cell \u001b[1;32mIn[35], line 1\u001b[0m\n\u001b[1;32m----> 1\u001b[0m np\u001b[38;5;241m.\u001b[39mmatrix([[[\u001b[38;5;241m1\u001b[39m, \u001b[38;5;241m2\u001b[39m], [\u001b[38;5;241m5\u001b[39m, \u001b[38;5;241m6\u001b[39m], [\u001b[38;5;241m7\u001b[39m, \u001b[38;5;241m8\u001b[39m]]])\n",
      "File \u001b[1;32m~\\anaconda3\\Lib\\site-packages\\numpy\\matrixlib\\defmatrix.py:150\u001b[0m, in \u001b[0;36mmatrix.__new__\u001b[1;34m(subtype, data, dtype, copy)\u001b[0m\n\u001b[0;32m    148\u001b[0m shape \u001b[38;5;241m=\u001b[39m arr\u001b[38;5;241m.\u001b[39mshape\n\u001b[0;32m    149\u001b[0m \u001b[38;5;28;01mif\u001b[39;00m (ndim \u001b[38;5;241m>\u001b[39m \u001b[38;5;241m2\u001b[39m):\n\u001b[1;32m--> 150\u001b[0m     \u001b[38;5;28;01mraise\u001b[39;00m \u001b[38;5;167;01mValueError\u001b[39;00m(\u001b[38;5;124m\"\u001b[39m\u001b[38;5;124mmatrix must be 2-dimensional\u001b[39m\u001b[38;5;124m\"\u001b[39m)\n\u001b[0;32m    151\u001b[0m \u001b[38;5;28;01melif\u001b[39;00m ndim \u001b[38;5;241m==\u001b[39m \u001b[38;5;241m0\u001b[39m:\n\u001b[0;32m    152\u001b[0m     shape \u001b[38;5;241m=\u001b[39m (\u001b[38;5;241m1\u001b[39m, \u001b[38;5;241m1\u001b[39m)\n",
      "\u001b[1;31mValueError\u001b[0m: matrix must be 2-dimensional"
     ]
    }
   ],
   "source": [
    "np.matrix([[[1, 2], [5, 6], [7, 8]]])"
   ]
  },
  {
   "cell_type": "code",
   "execution_count": 36,
   "id": "4ac613a0-7e39-410f-8cc6-df629ba7f9fc",
   "metadata": {},
   "outputs": [
    {
     "data": {
      "text/plain": [
       "array([[[1, 2],\n",
       "        [5, 6],\n",
       "        [7, 8]]])"
      ]
     },
     "execution_count": 36,
     "metadata": {},
     "output_type": "execute_result"
    }
   ],
   "source": [
    "np.array([[[1, 2], [5, 6], [7, 8]]])"
   ]
  },
  {
   "cell_type": "markdown",
   "id": "fddf087b-00ad-4dd0-9d1b-f05f3ddd5683",
   "metadata": {},
   "source": [
    "#  np.asanyarray\n",
    "## Convert the input to an ndarray, but pass ndarray subclasses through."
   ]
  },
  {
   "cell_type": "code",
   "execution_count": 39,
   "id": "8e2e4198-417c-4d27-9903-133f800aeb46",
   "metadata": {},
   "outputs": [
    {
     "data": {
      "text/plain": [
       "array([[[1, 2],\n",
       "        [5, 6],\n",
       "        [7, 8]]])"
      ]
     },
     "execution_count": 39,
     "metadata": {},
     "output_type": "execute_result"
    }
   ],
   "source": [
    "np.asanyarray([[[1, 2], [5, 6], [7, 8]]]) \n",
    "\n",
    "#Convert the input to an ndarray, but pass ndarray subclasses through."
   ]
  },
  {
   "cell_type": "code",
   "execution_count": 40,
   "id": "91aff519-57d8-4b0e-a8af-3d5894c3c01f",
   "metadata": {},
   "outputs": [
    {
     "data": {
      "text/plain": [
       "matrix([[1, 2, 3, 4]])"
      ]
     },
     "execution_count": 40,
     "metadata": {},
     "output_type": "execute_result"
    }
   ],
   "source": [
    "l=[1,2,3,4]\n",
    "mat=np.matrix(l)\n",
    "np.asanyarray(mat)"
   ]
  },
  {
   "cell_type": "markdown",
   "id": "278bc5b7-c651-47d8-8634-7c133ec15b97",
   "metadata": {},
   "source": [
    "# Convert Tuple into Array"
   ]
  },
  {
   "cell_type": "code",
   "execution_count": 41,
   "id": "6f333878-9581-4a28-b214-68dc33aa1321",
   "metadata": {},
   "outputs": [
    {
     "data": {
      "text/plain": [
       "array([[1, 2, 3],\n",
       "       [4, 5, 6]])"
      ]
     },
     "execution_count": 41,
     "metadata": {},
     "output_type": "execute_result"
    }
   ],
   "source": [
    "t=([1,2,3],[4,5,6])\n",
    "np.array(t)"
   ]
  },
  {
   "cell_type": "markdown",
   "id": "aa5e83c5-9030-48f5-b765-e09eee5679f9",
   "metadata": {},
   "source": [
    "# Convert Variable into Array"
   ]
  },
  {
   "cell_type": "code",
   "execution_count": 42,
   "id": "ba6596e5-4ce6-49d3-b4c5-73a3b7539100",
   "metadata": {},
   "outputs": [
    {
     "data": {
      "text/plain": [
       "array(5)"
      ]
     },
     "execution_count": 42,
     "metadata": {},
     "output_type": "execute_result"
    }
   ],
   "source": [
    "a=5\n",
    "np.array(a)"
   ]
  },
  {
   "cell_type": "markdown",
   "id": "f08e713c-c128-4464-a3b0-4ce933864de0",
   "metadata": {},
   "source": [
    "# Shallow copy and Deep Copy"
   ]
  },
  {
   "cell_type": "code",
   "execution_count": 44,
   "id": "3221601a-141b-4ba7-bce7-936cee5d92cf",
   "metadata": {},
   "outputs": [
    {
     "name": "stdout",
     "output_type": "stream",
     "text": [
      "[10  2  3  4  5]\n"
     ]
    }
   ],
   "source": [
    "# Shallaw copy: whenever changes in one array changes values in another array\n",
    "a=np.array([1,2,3,4,5])\n",
    "b=a\n",
    "a[0]=10\n",
    "print(b)"
   ]
  },
  {
   "cell_type": "code",
   "execution_count": 49,
   "id": "3a0b845f-5bbe-412e-9e9e-9be677710fd4",
   "metadata": {},
   "outputs": [
    {
     "name": "stdout",
     "output_type": "stream",
     "text": [
      "a is: [ 1  2  3  4 22]\n",
      "b is: [10  2  3  4  5]\n"
     ]
    }
   ],
   "source": [
    "# Deep copy: whenever changes in one array doesn't changes values in another array\n",
    "a=np.array([1,2,3,4,5])\n",
    "b=a.copy()\n",
    "b[0]=10\n",
    "a[4]=22\n",
    "print(\"a is:\",a )\n",
    "print(\"b is:\",b)"
   ]
  },
  {
   "cell_type": "markdown",
   "id": "8d344452-c348-4ae0-b2b3-890c2764d4c1",
   "metadata": {},
   "source": [
    "# Ways of Generating Arrays\n",
    "### 1. np.fromfunction\n",
    "### 2. np.fromiter\n",
    "### 3. np.fromstring"
   ]
  },
  {
   "cell_type": "code",
   "execution_count": 50,
   "id": "ba420e9f-7cfb-4a88-a5da-405f4be093ee",
   "metadata": {},
   "outputs": [
    {
     "data": {
      "text/plain": [
       "array([[ True, False, False],\n",
       "       [False,  True, False],\n",
       "       [False, False,  True]])"
      ]
     },
     "execution_count": 50,
     "metadata": {},
     "output_type": "execute_result"
    }
   ],
   "source": [
    "np.fromfunction(lambda i,j:i==j,(3,3))"
   ]
  },
  {
   "cell_type": "code",
   "execution_count": 51,
   "id": "7d1e5a52-7aea-4dfd-96a5-308e375678df",
   "metadata": {},
   "outputs": [
    {
     "data": {
      "text/plain": [
       "array([[0., 0., 0.],\n",
       "       [0., 1., 2.],\n",
       "       [0., 2., 4.]])"
      ]
     },
     "execution_count": 51,
     "metadata": {},
     "output_type": "execute_result"
    }
   ],
   "source": [
    "np.fromfunction(lambda i,j:i*j,(3,3))"
   ]
  },
  {
   "cell_type": "code",
   "execution_count": 52,
   "id": "cc330480-e34e-4dc7-8d3c-8511447e8f9a",
   "metadata": {},
   "outputs": [
    {
     "data": {
      "text/plain": [
       "array([[0., 1., 2.],\n",
       "       [1., 2., 3.],\n",
       "       [2., 3., 4.]])"
      ]
     },
     "execution_count": 52,
     "metadata": {},
     "output_type": "execute_result"
    }
   ],
   "source": [
    "np.fromfunction(lambda i,j:i+j,(3,3))"
   ]
  },
  {
   "cell_type": "code",
   "execution_count": 59,
   "id": "59dc0b91-618d-4807-ab43-08fe59240b60",
   "metadata": {},
   "outputs": [],
   "source": [
    "iterable=(i for i in range(10) if i%2==0)"
   ]
  },
  {
   "cell_type": "code",
   "execution_count": 60,
   "id": "2b2c8592-277f-46ce-afd1-be7488673a72",
   "metadata": {},
   "outputs": [
    {
     "data": {
      "text/plain": [
       "array([0, 2, 4, 6, 8])"
      ]
     },
     "execution_count": 60,
     "metadata": {},
     "output_type": "execute_result"
    }
   ],
   "source": [
    "np.fromiter(iterable, int)"
   ]
  },
  {
   "cell_type": "code",
   "execution_count": 63,
   "id": "a9cb9c68-dcc6-4946-899d-d70ff5934d79",
   "metadata": {},
   "outputs": [
    {
     "data": {
      "text/plain": [
       "array([12, 34, 54])"
      ]
     },
     "execution_count": 63,
     "metadata": {},
     "output_type": "execute_result"
    }
   ],
   "source": [
    "np.fromstring('12,34,54',sep=',',dtype=int)"
   ]
  },
  {
   "cell_type": "code",
   "execution_count": 64,
   "id": "a05ca51d-b6f0-4eb8-8ea9-2c3616989e0a",
   "metadata": {},
   "outputs": [
    {
     "data": {
      "text/plain": [
       "array([12, 34, 54])"
      ]
     },
     "execution_count": 64,
     "metadata": {},
     "output_type": "execute_result"
    }
   ],
   "source": [
    "np.fromstring('12 34 54',sep=' ',dtype=int)"
   ]
  },
  {
   "cell_type": "code",
   "execution_count": 66,
   "id": "591053ed-7142-4996-aed8-05eef50491d7",
   "metadata": {},
   "outputs": [
    {
     "name": "stderr",
     "output_type": "stream",
     "text": [
      "C:\\Users\\DYUTI SUNDER DUTTA\\AppData\\Local\\Temp\\ipykernel_16104\\3640688810.py:1: DeprecationWarning: string or file could not be read to its end due to unmatched data; this will raise a ValueError in the future.\n",
      "  np.fromstring('Dyuti,Bitan,ChotoBunu',sep=',')\n"
     ]
    },
    {
     "data": {
      "text/plain": [
       "array([], dtype=float64)"
      ]
     },
     "execution_count": 66,
     "metadata": {},
     "output_type": "execute_result"
    }
   ],
   "source": [
    "np.fromstring('Dyuti,Bitan,ChotoBunu',sep=',')"
   ]
  },
  {
   "cell_type": "markdown",
   "id": "46682fb8-d9ed-45b5-a536-4d10075f5c8a",
   "metadata": {},
   "source": [
    "# Size and shape and datatype of element of array"
   ]
  },
  {
   "cell_type": "code",
   "execution_count": 78,
   "id": "ba09705a-810d-4932-ad8e-ef6d77033a9b",
   "metadata": {},
   "outputs": [
    {
     "name": "stdout",
     "output_type": "stream",
     "text": [
      "(5,)\n",
      "5\n",
      "int32\n"
     ]
    }
   ],
   "source": [
    "a=np.array([1,2,3,4,5])\n",
    "print(a.shape)\n",
    "print(a.size)\n",
    "print(a.dtype)"
   ]
  },
  {
   "cell_type": "code",
   "execution_count": 75,
   "id": "35c33259-0a53-4216-a0bf-4a48509e5f14",
   "metadata": {},
   "outputs": [
    {
     "name": "stdout",
     "output_type": "stream",
     "text": [
      "(1, 5)\n",
      "5\n"
     ]
    }
   ],
   "source": [
    "a=np.array([[1,2,3,4,5]])\n",
    "print(a.shape)\n",
    "print(a.size)"
   ]
  },
  {
   "cell_type": "code",
   "execution_count": 77,
   "id": "05d7dec9-95fc-4af3-a8d4-052fad521519",
   "metadata": {},
   "outputs": [
    {
     "name": "stdout",
     "output_type": "stream",
     "text": [
      "(3, 5)\n",
      "15\n",
      "<U11\n"
     ]
    }
   ],
   "source": [
    "a=np.array([[1,2,3,4,'stree'],[1,2,3,4,5],[1,2,3,4,5]])\n",
    "print(a.shape)\n",
    "print(a.size)\n",
    "print(a.dtype)"
   ]
  },
  {
   "cell_type": "markdown",
   "id": "05c13189-7239-4c3f-832c-b8aad41ddb1e",
   "metadata": {},
   "source": [
    "# List Comprehension and Range function"
   ]
  },
  {
   "cell_type": "code",
   "execution_count": 80,
   "id": "d6d26f83-b950-43be-8fec-db20bda35817",
   "metadata": {},
   "outputs": [
    {
     "data": {
      "text/plain": [
       "[3, 6, 9, 12, 15, 18, 21, 24, 27, 30, 33, 36, 39, 42, 45, 48]"
      ]
     },
     "execution_count": 80,
     "metadata": {},
     "output_type": "execute_result"
    }
   ],
   "source": [
    "[i for i in range(1,50) if i%3==0]"
   ]
  },
  {
   "cell_type": "code",
   "execution_count": 81,
   "id": "a4cc9d26-6985-4ef0-bfed-cdafd48fc34e",
   "metadata": {},
   "outputs": [
    {
     "data": {
      "text/plain": [
       "[3, 6, 9, 12, 15, 18, 21, 24, 27, 30, 33, 36, 39, 42, 45, 48]"
      ]
     },
     "execution_count": 81,
     "metadata": {},
     "output_type": "execute_result"
    }
   ],
   "source": [
    "list([i for i in range(1,50) if i%3==0])"
   ]
  },
  {
   "cell_type": "code",
   "execution_count": 83,
   "id": "8c49cf2a-a59f-4a53-8948-97f9dda3053b",
   "metadata": {},
   "outputs": [
    {
     "data": {
      "text/plain": [
       "[3, 6, 9, 12, 15, 18, 21, 24, 27, 30, 33, 36, 39, 42, 45, 48]"
      ]
     },
     "execution_count": 83,
     "metadata": {},
     "output_type": "execute_result"
    }
   ],
   "source": [
    "list(range(3,50,3))"
   ]
  },
  {
   "cell_type": "code",
   "execution_count": 85,
   "id": "9b098b4b-ec05-424f-9759-4874848934a5",
   "metadata": {},
   "outputs": [
    {
     "name": "stdout",
     "output_type": "stream",
     "text": [
      "range(0, 5)\n",
      "[0, 1, 2, 3, 4]\n"
     ]
    }
   ],
   "source": [
    "print(range(0,5,1))\n",
    "print(list(range(0,5,1)))"
   ]
  },
  {
   "cell_type": "code",
   "execution_count": 87,
   "id": "0b3a691c-6a0c-4f2f-833c-45f01fd10063",
   "metadata": {},
   "outputs": [
    {
     "ename": "TypeError",
     "evalue": "'float' object cannot be interpreted as an integer",
     "output_type": "error",
     "traceback": [
      "\u001b[1;31m---------------------------------------------------------------------------\u001b[0m",
      "\u001b[1;31mTypeError\u001b[0m                                 Traceback (most recent call last)",
      "Cell \u001b[1;32mIn[87], line 2\u001b[0m\n\u001b[0;32m      1\u001b[0m \u001b[38;5;66;03m#range doesnot supports float values\u001b[39;00m\n\u001b[1;32m----> 2\u001b[0m \u001b[38;5;28mrange\u001b[39m(\u001b[38;5;241m1.0\u001b[39m,\u001b[38;5;241m5.0\u001b[39m)\n",
      "\u001b[1;31mTypeError\u001b[0m: 'float' object cannot be interpreted as an integer"
     ]
    }
   ],
   "source": [
    "#range doesnot supports float values\n",
    "range(1.0,5.0)"
   ]
  },
  {
   "cell_type": "markdown",
   "id": "f9083416-c792-4300-8276-36a8c5b14734",
   "metadata": {},
   "source": [
    "# np.arange\n",
    "### generates array between range with step as mentioned or default 1"
   ]
  },
  {
   "cell_type": "code",
   "execution_count": 95,
   "id": "3250f8f0-6c5e-47d4-9d11-6d8b3dd9db0c",
   "metadata": {},
   "outputs": [
    {
     "data": {
      "text/plain": [
       "array([0. , 0.1, 0.2, 0.3, 0.4])"
      ]
     },
     "execution_count": 95,
     "metadata": {},
     "output_type": "execute_result"
    }
   ],
   "source": [
    "l= np.arange(0,0.5,0.1)\n",
    "l"
   ]
  },
  {
   "cell_type": "markdown",
   "id": "125d6d1e-2eb7-4a51-a09d-8f56f9468973",
   "metadata": {},
   "source": [
    "# np.linspace\n",
    "### generates array between range, the values are equidistant and count of value generated is equivalent to the third parameter"
   ]
  },
  {
   "cell_type": "code",
   "execution_count": 93,
   "id": "1b8b83d1-a720-40fc-883a-58027aaf8993",
   "metadata": {},
   "outputs": [
    {
     "name": "stdout",
     "output_type": "stream",
     "text": [
      "[ 0.          0.52631579  1.05263158  1.57894737  2.10526316  2.63157895\n",
      "  3.15789474  3.68421053  4.21052632  4.73684211  5.26315789  5.78947368\n",
      "  6.31578947  6.84210526  7.36842105  7.89473684  8.42105263  8.94736842\n",
      "  9.47368421 10.        ]\n"
     ]
    }
   ],
   "source": [
    "l=np.linspace(0,10,20)\n",
    "print(l)"
   ]
  },
  {
   "cell_type": "markdown",
   "id": "fdf462a1-bbd9-42c8-aaac-53bea011e986",
   "metadata": {},
   "source": [
    "# np.logspace \n"
   ]
  },
  {
   "cell_type": "code",
   "execution_count": 97,
   "id": "20785251-1575-4593-808c-09e7f6c9b2b0",
   "metadata": {},
   "outputs": [
    {
     "name": "stdout",
     "output_type": "stream",
     "text": [
      "[1.00000000e+00 5.65685425e+00 3.20000000e+01 1.81019336e+02\n",
      " 1.02400000e+03]\n"
     ]
    }
   ],
   "source": [
    "l=np.logspace(0,10, 5, base =2)\n",
    "print(l)"
   ]
  },
  {
   "cell_type": "code",
   "execution_count": 98,
   "id": "4eb34a87-8a45-4323-a530-25ac61528c6f",
   "metadata": {},
   "outputs": [
    {
     "name": "stdout",
     "output_type": "stream",
     "text": [
      "[1.00000000e+00 1.29154967e+01 1.66810054e+02 2.15443469e+03\n",
      " 2.78255940e+04 3.59381366e+05 4.64158883e+06 5.99484250e+07\n",
      " 7.74263683e+08 1.00000000e+10]\n"
     ]
    }
   ],
   "source": [
    "l=np.logspace(0,10, 10, base =10)\n",
    "print(l)"
   ]
  },
  {
   "cell_type": "markdown",
   "id": "1101fedc-ac5a-4223-bbeb-32e4f4ce6482",
   "metadata": {},
   "source": [
    "# Zeros and Ones Array"
   ]
  },
  {
   "cell_type": "code",
   "execution_count": 100,
   "id": "ab5a081f-94c5-4644-9117-11f1f1fffe46",
   "metadata": {},
   "outputs": [
    {
     "name": "stdout",
     "output_type": "stream",
     "text": [
      "[0 0 0 0 0 0]\n",
      "(6,)\n",
      "1\n",
      "int32\n"
     ]
    }
   ],
   "source": [
    "a=np.zeros(6, dtype=int)\n",
    "print(a)\n",
    "print(a.shape)\n",
    "print(a.ndim)\n",
    "print(a.dtype)"
   ]
  },
  {
   "cell_type": "code",
   "execution_count": 101,
   "id": "c9043d4e-f1a8-4f87-99c6-4e0330fd32ec",
   "metadata": {},
   "outputs": [
    {
     "name": "stdout",
     "output_type": "stream",
     "text": [
      "[[0 0 0 0]\n",
      " [0 0 0 0]\n",
      " [0 0 0 0]]\n",
      "(3, 4)\n",
      "2\n",
      "int32\n"
     ]
    }
   ],
   "source": [
    "a=np.zeros((3,4), dtype=int)\n",
    "print(a)\n",
    "print(a.shape)\n",
    "print(a.ndim)\n",
    "print(a.dtype)"
   ]
  },
  {
   "cell_type": "code",
   "execution_count": 102,
   "id": "22997500-55d3-494e-bfec-65009651bb7b",
   "metadata": {},
   "outputs": [
    {
     "name": "stdout",
     "output_type": "stream",
     "text": [
      "[[1 1 1 1]\n",
      " [1 1 1 1]\n",
      " [1 1 1 1]]\n",
      "(3, 4)\n",
      "2\n",
      "int32\n"
     ]
    }
   ],
   "source": [
    "a=np.ones((3,4), dtype=int)\n",
    "print(a)\n",
    "print(a.shape)\n",
    "print(a.ndim)\n",
    "print(a.dtype)"
   ]
  },
  {
   "cell_type": "code",
   "execution_count": 104,
   "id": "bcc017ec-ff43-455f-a7ac-105fc047859b",
   "metadata": {},
   "outputs": [
    {
     "name": "stdout",
     "output_type": "stream",
     "text": [
      "[[[[[[[1 1 1 1]\n",
      "      [1 1 1 1]\n",
      "      [1 1 1 1]]]]]]]\n",
      "(1, 1, 1, 1, 1, 3, 4)\n",
      "7\n",
      "int32\n"
     ]
    }
   ],
   "source": [
    "a=np.ones((1,1,1,1,1,3,4), dtype=int)\n",
    "print(a)\n",
    "print(a.shape)\n",
    "print(a.ndim)\n",
    "print(a.dtype)"
   ]
  },
  {
   "cell_type": "code",
   "execution_count": 106,
   "id": "47b86b65-effc-4dc4-80e3-be168035d4aa",
   "metadata": {},
   "outputs": [
    {
     "name": "stdout",
     "output_type": "stream",
     "text": [
      "[[[[[[[3 3 3 3]\n",
      "      [3 3 3 3]\n",
      "      [3 3 3 3]]]]]]]\n",
      "[[[[[[[11 11 11 11]\n",
      "      [11 11 11 11]\n",
      "      [11 11 11 11]]]]]]]\n"
     ]
    }
   ],
   "source": [
    "b=a*3\n",
    "c=a+10\n",
    "print(b)\n",
    "print(c)"
   ]
  },
  {
   "cell_type": "markdown",
   "id": "cad6e543-12f1-42e7-ad02-92200ab95d30",
   "metadata": {},
   "source": [
    "Numpy Practice Day 2"
   ]
  },
  {
   "cell_type": "markdown",
   "id": "d130ea8f-480d-44ee-96de-7639d44153a6",
   "metadata": {},
   "source": [
    "# np.empty , np.eye \n"
   ]
  },
  {
   "cell_type": "code",
   "execution_count": 114,
   "id": "0e81b2c6-8e28-44fb-971a-0c9c2e92d10a",
   "metadata": {},
   "outputs": [
    {
     "data": {
      "text/plain": [
       "array([[4128860, 6029375, 3801155, 5570652],\n",
       "       [6619251, 7536754, 4456540, 5570649],\n",
       "       [4784212, 8257619,      49, 3342437]])"
      ]
     },
     "execution_count": 114,
     "metadata": {},
     "output_type": "execute_result"
    }
   ],
   "source": [
    "# np.empty generates random array element\n",
    "np.empty((3,4), dtype=int)"
   ]
  },
  {
   "cell_type": "code",
   "execution_count": 115,
   "id": "3cf55f01-4721-4e03-a1ee-6ef3fe1889e9",
   "metadata": {},
   "outputs": [
    {
     "data": {
      "text/plain": [
       "array([[1, 0, 0, 0],\n",
       "       [0, 1, 0, 0],\n",
       "       [0, 0, 1, 0],\n",
       "       [0, 0, 0, 1]])"
      ]
     },
     "execution_count": 115,
     "metadata": {},
     "output_type": "execute_result"
    }
   ],
   "source": [
    "#np.eye generates identity array\n",
    "np.eye(4,dtype=int)"
   ]
  },
  {
   "cell_type": "markdown",
   "id": "20a61116-1f26-44b2-848d-1cb06c9e5445",
   "metadata": {},
   "source": [
    "# Random library\n",
    "1. random.choice\n",
    "2. random.randrange\n",
    "3. random.random\n",
    "4. random.shuffle\n",
    "5. random.uniform"
   ]
  },
  {
   "cell_type": "code",
   "execution_count": 135,
   "id": "b7178c7d-7d79-47d8-9c8f-bcd4453702d0",
   "metadata": {},
   "outputs": [
    {
     "name": "stdout",
     "output_type": "stream",
     "text": [
      "4\n",
      "122\n",
      "6\n",
      "0.705216256518935\n"
     ]
    }
   ],
   "source": [
    "import random\n",
    "l=[4,9,8,7,5]\n",
    "print(random.choice([1,2,3,4,'122']))\n",
    "print(random.choice((1,2,3,4,'122')))\n",
    "\n",
    "print(random.randrange(1,10))\n",
    "print(random.random())"
   ]
  },
  {
   "cell_type": "code",
   "execution_count": 136,
   "id": "bc26997d-3630-471d-a9e0-430fd9981de7",
   "metadata": {},
   "outputs": [],
   "source": [
    "y=random.shuffle(l)"
   ]
  },
  {
   "cell_type": "code",
   "execution_count": 137,
   "id": "6f2e31e7-0717-49dd-81d8-715848f9f3a3",
   "metadata": {},
   "outputs": [
    {
     "name": "stdout",
     "output_type": "stream",
     "text": [
      "None\n"
     ]
    }
   ],
   "source": [
    "print(y)"
   ]
  },
  {
   "cell_type": "code",
   "execution_count": 138,
   "id": "08fee715-f826-45af-bf7f-adac09318b7e",
   "metadata": {},
   "outputs": [
    {
     "data": {
      "text/plain": [
       "13.397442980224977"
      ]
     },
     "execution_count": 138,
     "metadata": {},
     "output_type": "execute_result"
    }
   ],
   "source": [
    "random.uniform(7,14)"
   ]
  },
  {
   "cell_type": "markdown",
   "id": "68813dc9-94e6-4f61-9e39-31d029f8fb4e",
   "metadata": {},
   "source": [
    "# Random in numpy Library\n",
    "1. np.random.rand\n",
    "2. np.random.randn\n",
    "3. np.random.random_sample\n",
    "4. np.random.randint"
   ]
  },
  {
   "cell_type": "code",
   "execution_count": 139,
   "id": "d599474f-048d-4430-8b11-8066bfe32779",
   "metadata": {},
   "outputs": [
    {
     "data": {
      "text/plain": [
       "array([0.5097573])"
      ]
     },
     "execution_count": 139,
     "metadata": {},
     "output_type": "execute_result"
    }
   ],
   "source": [
    "np.random.rand(1)"
   ]
  },
  {
   "cell_type": "code",
   "execution_count": 142,
   "id": "907258cb-e54d-4c8d-823a-276631f4e760",
   "metadata": {},
   "outputs": [
    {
     "data": {
      "text/plain": [
       "array([[0.35974844, 0.28385437, 0.9921468 ],\n",
       "       [0.2915496 , 0.80326681, 0.35409207]])"
      ]
     },
     "execution_count": 142,
     "metadata": {},
     "output_type": "execute_result"
    }
   ],
   "source": [
    "np.random.rand(2,3)"
   ]
  },
  {
   "cell_type": "code",
   "execution_count": 143,
   "id": "7285ba52-c1be-4151-a833-fe662b13937e",
   "metadata": {},
   "outputs": [
    {
     "data": {
      "text/plain": [
       "array([[ 0.5451873 ,  1.33137012,  0.27579288],\n",
       "       [-1.37288257,  0.70753053,  1.23679692]])"
      ]
     },
     "execution_count": 143,
     "metadata": {},
     "output_type": "execute_result"
    }
   ],
   "source": [
    "np.random.randn(2,3)"
   ]
  },
  {
   "cell_type": "code",
   "execution_count": 151,
   "id": "df347f6c-ee53-4fb5-9825-f2b4aa02f7aa",
   "metadata": {},
   "outputs": [
    {
     "data": {
      "text/plain": [
       "array([0.07917959, 0.67704256, 0.34466322, 0.51918492, 0.39765306])"
      ]
     },
     "execution_count": 151,
     "metadata": {},
     "output_type": "execute_result"
    }
   ],
   "source": [
    "np.random.random_sample(5)"
   ]
  },
  {
   "cell_type": "code",
   "execution_count": 154,
   "id": "ea397bb9-b7a9-4f56-9dc7-d8f604af6ac7",
   "metadata": {},
   "outputs": [
    {
     "data": {
      "text/plain": [
       "array([[3, 3, 2],\n",
       "       [2, 2, 2]])"
      ]
     },
     "execution_count": 154,
     "metadata": {},
     "output_type": "execute_result"
    }
   ],
   "source": [
    "np.random.randint(1,5, size=(2,3))"
   ]
  },
  {
   "cell_type": "markdown",
   "id": "99c791ce-1525-4e4c-8310-2c716521f9bf",
   "metadata": {},
   "source": [
    "# Reshaping Array"
   ]
  },
  {
   "cell_type": "code",
   "execution_count": 161,
   "id": "574d80d6-7354-43b5-939d-a2cc603d1301",
   "metadata": {},
   "outputs": [
    {
     "data": {
      "text/plain": [
       "(3, 4)"
      ]
     },
     "execution_count": 161,
     "metadata": {},
     "output_type": "execute_result"
    }
   ],
   "source": [
    "l=[[1,2,3,4],[1,4,5,7],[6,7,8,9]]\n",
    "a=np.array(l)\n",
    "a.shape"
   ]
  },
  {
   "cell_type": "code",
   "execution_count": 162,
   "id": "c63679b2-d2df-422e-86d7-674e3679b66b",
   "metadata": {},
   "outputs": [
    {
     "data": {
      "text/plain": [
       "array([[1, 2, 3, 4, 1, 4, 5, 7, 6, 7, 8, 9]])"
      ]
     },
     "execution_count": 162,
     "metadata": {},
     "output_type": "execute_result"
    }
   ],
   "source": [
    "a.reshape(1,12)"
   ]
  },
  {
   "cell_type": "code",
   "execution_count": 163,
   "id": "6042110b-75cf-40e8-af14-aeddd68799d0",
   "metadata": {},
   "outputs": [
    {
     "data": {
      "text/plain": [
       "array([[1, 2],\n",
       "       [3, 4],\n",
       "       [1, 4],\n",
       "       [5, 7],\n",
       "       [6, 7],\n",
       "       [8, 9]])"
      ]
     },
     "execution_count": 163,
     "metadata": {},
     "output_type": "execute_result"
    }
   ],
   "source": [
    "a.reshape(6,2)"
   ]
  },
  {
   "cell_type": "code",
   "execution_count": 164,
   "id": "f5f55a6e-241e-427b-baf7-bf7e7d13b576",
   "metadata": {},
   "outputs": [
    {
     "ename": "ValueError",
     "evalue": "cannot reshape array of size 12 into shape (3,5)",
     "output_type": "error",
     "traceback": [
      "\u001b[1;31m---------------------------------------------------------------------------\u001b[0m",
      "\u001b[1;31mValueError\u001b[0m                                Traceback (most recent call last)",
      "Cell \u001b[1;32mIn[164], line 1\u001b[0m\n\u001b[1;32m----> 1\u001b[0m a\u001b[38;5;241m.\u001b[39mreshape(\u001b[38;5;241m3\u001b[39m,\u001b[38;5;241m5\u001b[39m)\n",
      "\u001b[1;31mValueError\u001b[0m: cannot reshape array of size 12 into shape (3,5)"
     ]
    }
   ],
   "source": [
    "a.reshape(3,5)"
   ]
  },
  {
   "cell_type": "code",
   "execution_count": 165,
   "id": "bdac6f13-2049-44c7-a490-8155640c1c24",
   "metadata": {},
   "outputs": [],
   "source": [
    "#while reshaping the shape of the array should be multiplicable of the original array"
   ]
  },
  {
   "cell_type": "code",
   "execution_count": 167,
   "id": "3cd594f0-6538-4251-824c-fe29a9b7eed3",
   "metadata": {},
   "outputs": [
    {
     "data": {
      "text/plain": [
       "array([[1, 2, 3, 4, 1, 4, 5, 7, 6, 7, 8, 9]])"
      ]
     },
     "execution_count": 167,
     "metadata": {},
     "output_type": "execute_result"
    }
   ],
   "source": [
    "a.reshape(-1,12)"
   ]
  },
  {
   "cell_type": "code",
   "execution_count": 168,
   "id": "c765835f-0938-44ba-8f92-f12a2b44e1bc",
   "metadata": {},
   "outputs": [
    {
     "data": {
      "text/plain": [
       "array([[1, 2, 3, 4, 1, 4],\n",
       "       [5, 7, 6, 7, 8, 9]])"
      ]
     },
     "execution_count": 168,
     "metadata": {},
     "output_type": "execute_result"
    }
   ],
   "source": [
    "a.reshape(-1,6)"
   ]
  },
  {
   "cell_type": "code",
   "execution_count": 170,
   "id": "c6103509-22a7-466a-90fb-0d38ff055b25",
   "metadata": {},
   "outputs": [],
   "source": [
    "# if we put one of the reshaping parameter as negative, then numpy will automatically calculate the suitable value that \n",
    "# needs to fit in place of that negative value to correctly reshape the array\n"
   ]
  },
  {
   "cell_type": "code",
   "execution_count": 171,
   "id": "560eb858-0f2b-487e-9b64-624d3ca43eb6",
   "metadata": {},
   "outputs": [
    {
     "data": {
      "text/plain": [
       "array([[1, 2, 3, 4],\n",
       "       [1, 4, 5, 7],\n",
       "       [6, 7, 8, 9]])"
      ]
     },
     "execution_count": 171,
     "metadata": {},
     "output_type": "execute_result"
    }
   ],
   "source": [
    "a.reshape(-1,6).base"
   ]
  },
  {
   "cell_type": "code",
   "execution_count": 172,
   "id": "d4270e6e-28fc-46df-8eeb-60887a870781",
   "metadata": {},
   "outputs": [],
   "source": [
    "# in order to revert back to the original shape use .base"
   ]
  },
  {
   "cell_type": "code",
   "execution_count": 174,
   "id": "08015101-b6af-4918-a73d-5b734e18c501",
   "metadata": {},
   "outputs": [
    {
     "data": {
      "text/plain": [
       "array([[[[[[1, 2, 3, 4, 1, 4],\n",
       "           [5, 7, 6, 7, 8, 9]]]]]])"
      ]
     },
     "execution_count": 174,
     "metadata": {},
     "output_type": "execute_result"
    }
   ],
   "source": [
    "a.reshape(1,1,1,1,2,6)"
   ]
  },
  {
   "cell_type": "code",
   "execution_count": 175,
   "id": "c0b6e039-5dee-4fe4-84a9-e2434c57d6d2",
   "metadata": {},
   "outputs": [],
   "source": [
    "# the dimension of an array can be increased untill the changed shape is a multiplicable of the original shape"
   ]
  },
  {
   "cell_type": "markdown",
   "id": "033639f4-dc28-4272-972d-6e6954a68ad6",
   "metadata": {},
   "source": [
    "# Filter Array"
   ]
  },
  {
   "cell_type": "code",
   "execution_count": 178,
   "id": "05cf16e3-6562-4cef-a7ab-5e3e0eef4af1",
   "metadata": {},
   "outputs": [
    {
     "data": {
      "text/plain": [
       "array([[1, 2, 3, 4],\n",
       "       [1, 4, 5, 7],\n",
       "       [6, 7, 8, 9]])"
      ]
     },
     "execution_count": 178,
     "metadata": {},
     "output_type": "execute_result"
    }
   ],
   "source": [
    "l=[[1,2,3,4],[1,4,5,7],[6,7,8,9]]\n",
    "arr1=np.array(l)\n",
    "arr1"
   ]
  },
  {
   "cell_type": "code",
   "execution_count": 181,
   "id": "dd23f196-291d-421d-8069-47cd5a342745",
   "metadata": {},
   "outputs": [
    {
     "data": {
      "text/plain": [
       "array([2, 3, 4, 4, 5, 7, 6, 7, 8, 9])"
      ]
     },
     "execution_count": 181,
     "metadata": {},
     "output_type": "execute_result"
    }
   ],
   "source": [
    "arr1[arr1>1]\n",
    "# returns all the values in 1 d array"
   ]
  },
  {
   "cell_type": "markdown",
   "id": "7e436641-f739-409f-94d2-2afcff6ed671",
   "metadata": {},
   "source": [
    "# Accessing Array Elements"
   ]
  },
  {
   "cell_type": "code",
   "execution_count": 182,
   "id": "f8dd450d-c395-4b05-a855-0aaa7a01a80f",
   "metadata": {},
   "outputs": [
    {
     "data": {
      "text/plain": [
       "array([[1, 2, 3, 4],\n",
       "       [1, 4, 5, 7],\n",
       "       [6, 7, 8, 9]])"
      ]
     },
     "execution_count": 182,
     "metadata": {},
     "output_type": "execute_result"
    }
   ],
   "source": [
    "arr1"
   ]
  },
  {
   "cell_type": "code",
   "execution_count": 185,
   "id": "a5b52837-f578-4030-93b0-d49c9d7f762d",
   "metadata": {},
   "outputs": [
    {
     "data": {
      "text/plain": [
       "2"
      ]
     },
     "execution_count": 185,
     "metadata": {},
     "output_type": "execute_result"
    }
   ],
   "source": [
    "arr1[0][1]\n",
    "#first row 2nd column"
   ]
  },
  {
   "cell_type": "code",
   "execution_count": 188,
   "id": "4df91670-f3ef-4117-9fdf-9f18147dfe1b",
   "metadata": {},
   "outputs": [
    {
     "data": {
      "text/plain": [
       "array([1, 4, 5, 7])"
      ]
     },
     "execution_count": 188,
     "metadata": {},
     "output_type": "execute_result"
    }
   ],
   "source": [
    "arr1[:][1]\n",
    "# 2nd row"
   ]
  },
  {
   "cell_type": "code",
   "execution_count": 190,
   "id": "35d7a9fe-55bc-46b5-807e-67221bbda6ad",
   "metadata": {},
   "outputs": [
    {
     "data": {
      "text/plain": [
       "array([1, 2, 3, 4])"
      ]
     },
     "execution_count": 190,
     "metadata": {},
     "output_type": "execute_result"
    }
   ],
   "source": [
    "arr1[:][0]\n",
    "# 1st Row"
   ]
  },
  {
   "cell_type": "code",
   "execution_count": 191,
   "id": "9fb6581b-323f-4977-9f53-2600b9e4ed0a",
   "metadata": {},
   "outputs": [
    {
     "data": {
      "text/plain": [
       "array([1, 4, 5, 7])"
      ]
     },
     "execution_count": 191,
     "metadata": {},
     "output_type": "execute_result"
    }
   ],
   "source": [
    "arr1[1][:]\n",
    "# 2nd row"
   ]
  },
  {
   "cell_type": "code",
   "execution_count": 193,
   "id": "f5aa286e-3691-44c0-bf2f-7b386fd7f084",
   "metadata": {},
   "outputs": [
    {
     "data": {
      "text/plain": [
       "array([6, 7, 8, 9])"
      ]
     },
     "execution_count": 193,
     "metadata": {},
     "output_type": "execute_result"
    }
   ],
   "source": [
    "arr1[2][:]\n",
    "# 3rd row"
   ]
  },
  {
   "cell_type": "code",
   "execution_count": 194,
   "id": "3213a299-adb4-4d75-b7df-b382333c16cf",
   "metadata": {},
   "outputs": [
    {
     "data": {
      "text/plain": [
       "2"
      ]
     },
     "execution_count": 194,
     "metadata": {},
     "output_type": "execute_result"
    }
   ],
   "source": [
    "arr1[0,1]"
   ]
  },
  {
   "cell_type": "code",
   "execution_count": 195,
   "id": "0dca18ea-a7f2-40f6-b8b3-84ddedf87eb3",
   "metadata": {},
   "outputs": [
    {
     "data": {
      "text/plain": [
       "array([[1, 2, 3, 4],\n",
       "       [1, 4, 5, 7],\n",
       "       [6, 7, 8, 9]])"
      ]
     },
     "execution_count": 195,
     "metadata": {},
     "output_type": "execute_result"
    }
   ],
   "source": [
    "arr1"
   ]
  },
  {
   "cell_type": "code",
   "execution_count": 197,
   "id": "3beb8162-c392-44f7-9539-6ebed54b1f65",
   "metadata": {},
   "outputs": [
    {
     "data": {
      "text/plain": [
       "array([1, 1, 6])"
      ]
     },
     "execution_count": 197,
     "metadata": {},
     "output_type": "execute_result"
    }
   ],
   "source": [
    "arr1[:,0]\n",
    "#all row, 1st column"
   ]
  },
  {
   "cell_type": "code",
   "execution_count": 198,
   "id": "8a51583e-01d5-428b-b630-4f006eba3c0e",
   "metadata": {},
   "outputs": [
    {
     "data": {
      "text/plain": [
       "array([1, 2, 3, 4])"
      ]
     },
     "execution_count": 198,
     "metadata": {},
     "output_type": "execute_result"
    }
   ],
   "source": [
    "arr1[0,:]\n",
    "#all column, 1st row"
   ]
  },
  {
   "cell_type": "code",
   "execution_count": 199,
   "id": "2b64c285-5311-466a-9d7c-a15b3cc8d0d5",
   "metadata": {},
   "outputs": [
    {
     "data": {
      "text/plain": [
       "array([[4, 5],\n",
       "       [7, 8]])"
      ]
     },
     "execution_count": 199,
     "metadata": {},
     "output_type": "execute_result"
    }
   ],
   "source": [
    "arr1[1:3,1:3]"
   ]
  },
  {
   "cell_type": "code",
   "execution_count": 200,
   "id": "e0d9a790-e5d9-413b-a6bf-070191b56026",
   "metadata": {},
   "outputs": [
    {
     "data": {
      "text/plain": [
       "array([7, 9])"
      ]
     },
     "execution_count": 200,
     "metadata": {},
     "output_type": "execute_result"
    }
   ],
   "source": [
    "arr1[1:3,-1]"
   ]
  },
  {
   "cell_type": "code",
   "execution_count": 201,
   "id": "abe33379-340f-40be-9e1e-8d652ca20718",
   "metadata": {},
   "outputs": [
    {
     "data": {
      "text/plain": [
       "array([4, 8])"
      ]
     },
     "execution_count": 201,
     "metadata": {},
     "output_type": "execute_result"
    }
   ],
   "source": [
    "arr1[[1,2],[1,2]]"
   ]
  },
  {
   "cell_type": "code",
   "execution_count": 208,
   "id": "bf145a2b-6760-4a7d-8b05-e3355bd78f9f",
   "metadata": {},
   "outputs": [
    {
     "data": {
      "text/plain": [
       "array([[2, 4],\n",
       "       [4, 7],\n",
       "       [7, 9]])"
      ]
     },
     "execution_count": 208,
     "metadata": {},
     "output_type": "execute_result"
    }
   ],
   "source": [
    "arr1[0:3,[1,3]]"
   ]
  },
  {
   "cell_type": "markdown",
   "id": "3464dc24-1109-4918-980c-b5c14c22bfdc",
   "metadata": {},
   "source": [
    "# Adding , Substracting, Multiplying, Dividing two arrays"
   ]
  },
  {
   "cell_type": "code",
   "execution_count": 213,
   "id": "c7dbd5e3-6ce6-40db-99df-be3af58e5370",
   "metadata": {},
   "outputs": [],
   "source": [
    "arr1=np.random.randint(1,10,(3,4),dtype=int)\n",
    "arr2=np.random.randint(1,10,(3,4),dtype=int)"
   ]
  },
  {
   "cell_type": "code",
   "execution_count": 215,
   "id": "a264c3fc-7a75-4f18-93ad-6db136c514f4",
   "metadata": {},
   "outputs": [
    {
     "name": "stdout",
     "output_type": "stream",
     "text": [
      "[[4 6 1 5]\n",
      " [6 7 9 7]\n",
      " [8 6 9 6]]\n",
      "[[9 5 9 8]\n",
      " [8 9 1 8]\n",
      " [6 5 2 4]]\n"
     ]
    }
   ],
   "source": [
    "print(arr1)\n",
    "print(arr2)"
   ]
  },
  {
   "cell_type": "code",
   "execution_count": 216,
   "id": "597e2baa-159d-468c-81cc-a02501feed88",
   "metadata": {},
   "outputs": [
    {
     "data": {
      "text/plain": [
       "array([[13, 11, 10, 13],\n",
       "       [14, 16, 10, 15],\n",
       "       [14, 11, 11, 10]])"
      ]
     },
     "execution_count": 216,
     "metadata": {},
     "output_type": "execute_result"
    }
   ],
   "source": [
    "arr1+arr2"
   ]
  },
  {
   "cell_type": "code",
   "execution_count": 221,
   "id": "50eebc2c-7604-40bd-a0f1-2f62c4539926",
   "metadata": {},
   "outputs": [
    {
     "data": {
      "text/plain": [
       "array([[-5,  1, -8, -3],\n",
       "       [-2, -2,  8, -1],\n",
       "       [ 2,  1,  7,  2]])"
      ]
     },
     "execution_count": 221,
     "metadata": {},
     "output_type": "execute_result"
    }
   ],
   "source": [
    "arr1-arr2"
   ]
  },
  {
   "cell_type": "code",
   "execution_count": 217,
   "id": "78a02f5d-25e6-4b6c-a4a7-53de9b747c9a",
   "metadata": {},
   "outputs": [
    {
     "data": {
      "text/plain": [
       "array([[36, 30,  9, 40],\n",
       "       [48, 63,  9, 56],\n",
       "       [48, 30, 18, 24]])"
      ]
     },
     "execution_count": 217,
     "metadata": {},
     "output_type": "execute_result"
    }
   ],
   "source": [
    "arr1*arr2"
   ]
  },
  {
   "cell_type": "code",
   "execution_count": 218,
   "id": "36c3c55c-a0be-4fa1-9fd7-b93f0d77867e",
   "metadata": {},
   "outputs": [
    {
     "data": {
      "text/plain": [
       "array([[0.44444444, 1.2       , 0.11111111, 0.625     ],\n",
       "       [0.75      , 0.77777778, 9.        , 0.875     ],\n",
       "       [1.33333333, 1.2       , 4.5       , 1.5       ]])"
      ]
     },
     "execution_count": 218,
     "metadata": {},
     "output_type": "execute_result"
    }
   ],
   "source": [
    "arr1/arr2"
   ]
  },
  {
   "cell_type": "code",
   "execution_count": 219,
   "id": "4780eae0-778b-4438-b74d-545937e639a4",
   "metadata": {},
   "outputs": [
    {
     "data": {
      "text/plain": [
       "array([[4, 1, 1, 5],\n",
       "       [6, 7, 0, 7],\n",
       "       [2, 1, 1, 2]])"
      ]
     },
     "execution_count": 219,
     "metadata": {},
     "output_type": "execute_result"
    }
   ],
   "source": [
    "arr1%arr2"
   ]
  },
  {
   "cell_type": "code",
   "execution_count": 220,
   "id": "0d22c720-006d-4de7-a14f-4cfbc1234eb2",
   "metadata": {},
   "outputs": [
    {
     "name": "stderr",
     "output_type": "stream",
     "text": [
      "C:\\Users\\DYUTI SUNDER DUTTA\\AppData\\Local\\Temp\\ipykernel_16104\\1510032488.py:1: RuntimeWarning: divide by zero encountered in divide\n",
      "  arr1/0\n"
     ]
    },
    {
     "data": {
      "text/plain": [
       "array([[inf, inf, inf, inf],\n",
       "       [inf, inf, inf, inf],\n",
       "       [inf, inf, inf, inf]])"
      ]
     },
     "execution_count": 220,
     "metadata": {},
     "output_type": "execute_result"
    }
   ],
   "source": [
    "arr1/0"
   ]
  },
  {
   "cell_type": "markdown",
   "id": "4292accb-5c97-4bae-9ac1-8e1822fbfd59",
   "metadata": {},
   "source": [
    "# Matrix Multiplication"
   ]
  },
  {
   "cell_type": "code",
   "execution_count": 223,
   "id": "73e16535-606c-462e-8143-6bf3e740a906",
   "metadata": {},
   "outputs": [
    {
     "data": {
      "text/plain": [
       "array([[4, 6, 1, 5],\n",
       "       [6, 7, 9, 7],\n",
       "       [8, 6, 9, 6]])"
      ]
     },
     "execution_count": 223,
     "metadata": {},
     "output_type": "execute_result"
    }
   ],
   "source": [
    "arr1"
   ]
  },
  {
   "cell_type": "code",
   "execution_count": 233,
   "id": "3213dc99-bb90-4e97-96f2-5a82e86dfe0d",
   "metadata": {},
   "outputs": [
    {
     "data": {
      "text/plain": [
       "array([[9, 5, 9],\n",
       "       [8, 8, 9],\n",
       "       [1, 8, 6],\n",
       "       [5, 2, 4]])"
      ]
     },
     "execution_count": 233,
     "metadata": {},
     "output_type": "execute_result"
    }
   ],
   "source": [
    "arr2=arr2.reshape(4,3)\n",
    "arr2"
   ]
  },
  {
   "cell_type": "code",
   "execution_count": 234,
   "id": "e788d877-f4a0-41dd-b6e7-e41a6af1fec5",
   "metadata": {},
   "outputs": [
    {
     "data": {
      "text/plain": [
       "(3, 4)"
      ]
     },
     "execution_count": 234,
     "metadata": {},
     "output_type": "execute_result"
    }
   ],
   "source": [
    "arr1.shape"
   ]
  },
  {
   "cell_type": "code",
   "execution_count": 235,
   "id": "e1f6acb4-567b-4e93-88cb-bb82038aa811",
   "metadata": {},
   "outputs": [
    {
     "data": {
      "text/plain": [
       "(4, 3)"
      ]
     },
     "execution_count": 235,
     "metadata": {},
     "output_type": "execute_result"
    }
   ],
   "source": [
    "arr2.shape"
   ]
  },
  {
   "cell_type": "code",
   "execution_count": 228,
   "id": "2ba978d0-3d73-47b9-baa6-00efd0ea2bad",
   "metadata": {},
   "outputs": [],
   "source": [
    "# column count of first matrix and row count of second matrix should be same for matrix multiplication\n",
    "# the output of which will be row count of first matrix cross column count of second matrix"
   ]
  },
  {
   "cell_type": "code",
   "execution_count": 236,
   "id": "1e2a51ad-fdcb-4e69-b0b1-be06ab1e6ba5",
   "metadata": {},
   "outputs": [
    {
     "data": {
      "text/plain": [
       "array([[110,  86, 116],\n",
       "       [154, 172, 199],\n",
       "       [159, 172, 204]])"
      ]
     },
     "execution_count": 236,
     "metadata": {},
     "output_type": "execute_result"
    }
   ],
   "source": [
    "arr1@arr2"
   ]
  },
  {
   "cell_type": "markdown",
   "id": "1b454599-8d7c-450c-92c5-9b3a14a5fb4c",
   "metadata": {},
   "source": [
    "# Broadcasting"
   ]
  },
  {
   "cell_type": "code",
   "execution_count": 239,
   "id": "28805100-62ca-4c40-8809-a0582e2b2483",
   "metadata": {},
   "outputs": [
    {
     "data": {
      "text/plain": [
       "array([[0, 0, 0],\n",
       "       [0, 0, 0]])"
      ]
     },
     "execution_count": 239,
     "metadata": {},
     "output_type": "execute_result"
    }
   ],
   "source": [
    "arr=np.zeros((2,3),dtype=int)\n",
    "arr"
   ]
  },
  {
   "cell_type": "code",
   "execution_count": 240,
   "id": "285adc20-b8d7-46e6-bedd-3edf8d5ed7bf",
   "metadata": {},
   "outputs": [
    {
     "data": {
      "text/plain": [
       "array([[3, 3, 3],\n",
       "       [3, 3, 3]])"
      ]
     },
     "execution_count": 240,
     "metadata": {},
     "output_type": "execute_result"
    }
   ],
   "source": [
    "arr2=arr+3\n",
    "arr2"
   ]
  },
  {
   "cell_type": "code",
   "execution_count": 241,
   "id": "c600daa0-0fff-4c69-a0b6-5478901710ff",
   "metadata": {},
   "outputs": [],
   "source": [
    "arr3=np.array([1,2,3])"
   ]
  },
  {
   "cell_type": "code",
   "execution_count": 242,
   "id": "d37a62bd-af9e-4752-b60d-9a1cec078206",
   "metadata": {},
   "outputs": [],
   "source": [
    "arr4=arr2+arr3"
   ]
  },
  {
   "cell_type": "code",
   "execution_count": 243,
   "id": "8184da2e-b582-4ff3-9969-1b55905fdaf4",
   "metadata": {},
   "outputs": [
    {
     "data": {
      "text/plain": [
       "array([[4, 5, 6],\n",
       "       [4, 5, 6]])"
      ]
     },
     "execution_count": 243,
     "metadata": {},
     "output_type": "execute_result"
    }
   ],
   "source": [
    "arr4"
   ]
  },
  {
   "cell_type": "code",
   "execution_count": 244,
   "id": "cf2e0351-bde4-4361-a3d1-77393b2daabe",
   "metadata": {},
   "outputs": [
    {
     "ename": "ValueError",
     "evalue": "operands could not be broadcast together with shapes (2,3) (4,) ",
     "output_type": "error",
     "traceback": [
      "\u001b[1;31m---------------------------------------------------------------------------\u001b[0m",
      "\u001b[1;31mValueError\u001b[0m                                Traceback (most recent call last)",
      "Cell \u001b[1;32mIn[244], line 2\u001b[0m\n\u001b[0;32m      1\u001b[0m arr5\u001b[38;5;241m=\u001b[39mnp\u001b[38;5;241m.\u001b[39marray([\u001b[38;5;241m1\u001b[39m,\u001b[38;5;241m2\u001b[39m,\u001b[38;5;241m3\u001b[39m,\u001b[38;5;241m4\u001b[39m])\n\u001b[1;32m----> 2\u001b[0m arr6\u001b[38;5;241m=\u001b[39marr4\u001b[38;5;241m+\u001b[39marr5\n",
      "\u001b[1;31mValueError\u001b[0m: operands could not be broadcast together with shapes (2,3) (4,) "
     ]
    }
   ],
   "source": [
    "arr5=np.array([1,2,3,4])\n",
    "arr6=arr4+arr5"
   ]
  },
  {
   "cell_type": "markdown",
   "id": "315b59b2-3fc0-4748-820e-9bbfb02f5155",
   "metadata": {},
   "source": [
    "# Square root, Exponential, Minimum, Maximum, sum using numpy"
   ]
  },
  {
   "cell_type": "code",
   "execution_count": 245,
   "id": "d149b3ba-d55a-4b49-aeda-98b73447eb76",
   "metadata": {},
   "outputs": [
    {
     "data": {
      "text/plain": [
       "array([[2.        , 2.44948974, 1.        , 2.23606798],\n",
       "       [2.44948974, 2.64575131, 3.        , 2.64575131],\n",
       "       [2.82842712, 2.44948974, 3.        , 2.44948974]])"
      ]
     },
     "execution_count": 245,
     "metadata": {},
     "output_type": "execute_result"
    }
   ],
   "source": [
    "np.sqrt(arr1)"
   ]
  },
  {
   "cell_type": "code",
   "execution_count": 246,
   "id": "8a4dc613-eec6-4863-989b-89f876cc86ed",
   "metadata": {},
   "outputs": [
    {
     "data": {
      "text/plain": [
       "array([[5.45981500e+01, 4.03428793e+02, 2.71828183e+00, 1.48413159e+02],\n",
       "       [4.03428793e+02, 1.09663316e+03, 8.10308393e+03, 1.09663316e+03],\n",
       "       [2.98095799e+03, 4.03428793e+02, 8.10308393e+03, 4.03428793e+02]])"
      ]
     },
     "execution_count": 246,
     "metadata": {},
     "output_type": "execute_result"
    }
   ],
   "source": [
    "np.exp(arr1)"
   ]
  },
  {
   "cell_type": "code",
   "execution_count": 248,
   "id": "c9a7533d-3acb-482f-a3d7-f45441a94be9",
   "metadata": {},
   "outputs": [
    {
     "data": {
      "text/plain": [
       "array([[2.        , 2.5849625 , 0.        , 2.32192809],\n",
       "       [2.5849625 , 2.80735492, 3.169925  , 2.80735492],\n",
       "       [3.        , 2.5849625 , 3.169925  , 2.5849625 ]])"
      ]
     },
     "execution_count": 248,
     "metadata": {},
     "output_type": "execute_result"
    }
   ],
   "source": [
    "np.log2(arr1)"
   ]
  },
  {
   "cell_type": "code",
   "execution_count": 249,
   "id": "e6a95b2d-6537-4146-8448-81d07cd60bba",
   "metadata": {},
   "outputs": [
    {
     "data": {
      "text/plain": [
       "1"
      ]
     },
     "execution_count": 249,
     "metadata": {},
     "output_type": "execute_result"
    }
   ],
   "source": [
    "np.min(arr1)"
   ]
  },
  {
   "cell_type": "code",
   "execution_count": 250,
   "id": "d973db66-76fc-4568-b47d-4c197a7e1a3f",
   "metadata": {},
   "outputs": [
    {
     "data": {
      "text/plain": [
       "9"
      ]
     },
     "execution_count": 250,
     "metadata": {},
     "output_type": "execute_result"
    }
   ],
   "source": [
    "np.max(arr1)"
   ]
  },
  {
   "cell_type": "code",
   "execution_count": 251,
   "id": "cb90eab6-91ee-4c49-8144-4b80482fc2b0",
   "metadata": {},
   "outputs": [
    {
     "data": {
      "text/plain": [
       "6.166666666666667"
      ]
     },
     "execution_count": 251,
     "metadata": {},
     "output_type": "execute_result"
    }
   ],
   "source": [
    "np.mean(arr1)"
   ]
  },
  {
   "cell_type": "code",
   "execution_count": 252,
   "id": "15c79413-4ee0-4a1e-bcdf-392ffc322e4b",
   "metadata": {},
   "outputs": [
    {
     "data": {
      "text/plain": [
       "2.1147629234082532"
      ]
     },
     "execution_count": 252,
     "metadata": {},
     "output_type": "execute_result"
    }
   ],
   "source": [
    "np.std(arr1)"
   ]
  },
  {
   "cell_type": "code",
   "execution_count": 253,
   "id": "9b10f951-bd84-4fb2-8722-04018d46c1be",
   "metadata": {},
   "outputs": [
    {
     "data": {
      "text/plain": [
       "4.472222222222222"
      ]
     },
     "execution_count": 253,
     "metadata": {},
     "output_type": "execute_result"
    }
   ],
   "source": [
    "np.var(arr1)"
   ]
  },
  {
   "cell_type": "code",
   "execution_count": 254,
   "id": "0efc962b-daf9-4e84-90e3-c0d90760c2dc",
   "metadata": {},
   "outputs": [
    {
     "data": {
      "text/plain": [
       "74"
      ]
     },
     "execution_count": 254,
     "metadata": {},
     "output_type": "execute_result"
    }
   ],
   "source": [
    "np.sum(arr1)"
   ]
  },
  {
   "cell_type": "code",
   "execution_count": 257,
   "id": "3ef13c56-e842-4973-8e5a-c269d5dbb64b",
   "metadata": {},
   "outputs": [
    {
     "data": {
      "text/plain": [
       "array([16, 29, 29])"
      ]
     },
     "execution_count": 257,
     "metadata": {},
     "output_type": "execute_result"
    }
   ],
   "source": [
    "np.sum(arr1, axis=1)"
   ]
  },
  {
   "cell_type": "code",
   "execution_count": 258,
   "id": "b1510a62-f507-4b0c-b43e-dd06996d9430",
   "metadata": {},
   "outputs": [
    {
     "data": {
      "text/plain": [
       "array([18, 19, 19, 18])"
      ]
     },
     "execution_count": 258,
     "metadata": {},
     "output_type": "execute_result"
    }
   ],
   "source": [
    "np.sum(arr1, axis=0)"
   ]
  },
  {
   "cell_type": "code",
   "execution_count": 260,
   "id": "92aa9f32-c862-4eb1-8bf3-d7b46e1f8e2d",
   "metadata": {},
   "outputs": [
    {
     "data": {
      "text/plain": [
       "array([4.  , 7.25, 7.25])"
      ]
     },
     "execution_count": 260,
     "metadata": {},
     "output_type": "execute_result"
    }
   ],
   "source": [
    "np.mean(arr1, axis=1)"
   ]
  },
  {
   "cell_type": "markdown",
   "id": "d55ba610-daf8-478e-b2e5-90fbc78eb785",
   "metadata": {},
   "source": [
    "# Flatten ->\n",
    "Reduces higher dimensional arrays into 1 D array"
   ]
  },
  {
   "cell_type": "code",
   "execution_count": 256,
   "id": "535713c9-679f-45c3-a30f-c65fc37efe21",
   "metadata": {},
   "outputs": [
    {
     "data": {
      "text/plain": [
       "array([4, 6, 1, 5, 6, 7, 9, 7, 8, 6, 9, 6])"
      ]
     },
     "execution_count": 256,
     "metadata": {},
     "output_type": "execute_result"
    }
   ],
   "source": [
    "arr1.flatten()"
   ]
  },
  {
   "cell_type": "markdown",
   "id": "7a8bc574-2321-4e5c-902c-29445bfdcf1e",
   "metadata": {},
   "source": [
    "# Expand_dims -->\n",
    "Expands the dimension of the array by inserting new axis"
   ]
  },
  {
   "cell_type": "code",
   "execution_count": 261,
   "id": "c916a457-20b9-4a66-89be-686022395874",
   "metadata": {},
   "outputs": [],
   "source": [
    "l=[1,2,3,4]\n",
    "arr=np.array(l)"
   ]
  },
  {
   "cell_type": "code",
   "execution_count": 262,
   "id": "a2e0314f-d571-4223-9496-d39905dc0caa",
   "metadata": {},
   "outputs": [
    {
     "data": {
      "text/plain": [
       "array([1, 2, 3, 4])"
      ]
     },
     "execution_count": 262,
     "metadata": {},
     "output_type": "execute_result"
    }
   ],
   "source": [
    "arr"
   ]
  },
  {
   "cell_type": "code",
   "execution_count": 269,
   "id": "4eac5209-a792-42e1-b4ba-aa575176d1d8",
   "metadata": {},
   "outputs": [
    {
     "data": {
      "text/plain": [
       "array([[1],\n",
       "       [2],\n",
       "       [3],\n",
       "       [4]])"
      ]
     },
     "execution_count": 269,
     "metadata": {},
     "output_type": "execute_result"
    }
   ],
   "source": [
    "arr1=np.expand_dims(arr, axis=1)\n",
    "arr1"
   ]
  },
  {
   "cell_type": "code",
   "execution_count": 270,
   "id": "8a8cad32-cd7b-4245-ae73-023fe5167094",
   "metadata": {},
   "outputs": [
    {
     "data": {
      "text/plain": [
       "array([[1, 2, 3, 4]])"
      ]
     },
     "execution_count": 270,
     "metadata": {},
     "output_type": "execute_result"
    }
   ],
   "source": [
    "arr1=np.expand_dims(arr, axis=0)\n",
    "arr1"
   ]
  },
  {
   "cell_type": "code",
   "execution_count": 272,
   "id": "971f0dcf-2633-48d8-b6ee-1ace1a62cdec",
   "metadata": {},
   "outputs": [
    {
     "data": {
      "text/plain": [
       "array([[[1, 2, 3, 4]]])"
      ]
     },
     "execution_count": 272,
     "metadata": {},
     "output_type": "execute_result"
    }
   ],
   "source": [
    "arr2=np.expand_dims(arr1, axis=0)\n",
    "arr2"
   ]
  },
  {
   "cell_type": "code",
   "execution_count": 273,
   "id": "50bc7a97-1843-4cd2-a013-e64e52b6cdf7",
   "metadata": {},
   "outputs": [
    {
     "data": {
      "text/plain": [
       "array([[0, 0, 0],\n",
       "       [0, 0, 0]])"
      ]
     },
     "execution_count": 273,
     "metadata": {},
     "output_type": "execute_result"
    }
   ],
   "source": [
    "arr=np.zeros((2,3),dtype=int)\n",
    "arr"
   ]
  },
  {
   "cell_type": "code",
   "execution_count": 274,
   "id": "c06bd906-4304-49de-8d91-a7b29006d3a1",
   "metadata": {},
   "outputs": [
    {
     "data": {
      "text/plain": [
       "array([[[0, 0, 0]],\n",
       "\n",
       "       [[0, 0, 0]]])"
      ]
     },
     "execution_count": 274,
     "metadata": {},
     "output_type": "execute_result"
    }
   ],
   "source": [
    "a=np.expand_dims(arr,axis=1)\n",
    "a"
   ]
  },
  {
   "cell_type": "code",
   "execution_count": 275,
   "id": "b13204b9-a49e-4b04-b281-f76c6936d91d",
   "metadata": {},
   "outputs": [
    {
     "data": {
      "text/plain": [
       "array([[[0, 0, 0],\n",
       "        [0, 0, 0]]])"
      ]
     },
     "execution_count": 275,
     "metadata": {},
     "output_type": "execute_result"
    }
   ],
   "source": [
    "b=np.expand_dims(arr,axis=0)\n",
    "b"
   ]
  },
  {
   "cell_type": "markdown",
   "id": "b8332b74-0324-4046-8e4d-748307d08f8f",
   "metadata": {},
   "source": [
    "# Squeeze\n",
    "it reduces one dimension from the numpy array"
   ]
  },
  {
   "cell_type": "code",
   "execution_count": 280,
   "id": "ca4c6136-cf88-4670-8ba5-3f880024d021",
   "metadata": {},
   "outputs": [
    {
     "data": {
      "text/plain": [
       "4"
      ]
     },
     "execution_count": 280,
     "metadata": {},
     "output_type": "execute_result"
    }
   ],
   "source": [
    "arr=np.ones((1,1,4,3),dtype=int)\n",
    "arr\n",
    "arr.ndim"
   ]
  },
  {
   "cell_type": "code",
   "execution_count": 281,
   "id": "915ad486-62ef-49aa-bf45-1f24dec1fb41",
   "metadata": {},
   "outputs": [
    {
     "data": {
      "text/plain": [
       "2"
      ]
     },
     "execution_count": 281,
     "metadata": {},
     "output_type": "execute_result"
    }
   ],
   "source": [
    "a=np.squeeze(arr)\n",
    "a.ndim"
   ]
  },
  {
   "cell_type": "markdown",
   "id": "f96520ed-8ad7-44a7-9102-49541c1dd79c",
   "metadata": {},
   "source": [
    "# Repeat"
   ]
  },
  {
   "cell_type": "code",
   "execution_count": 283,
   "id": "3237b379-c9dd-47ab-a3af-90d87d74c4c9",
   "metadata": {},
   "outputs": [
    {
     "data": {
      "text/plain": [
       "array([[1, 2, 3],\n",
       "       [4, 5, 6],\n",
       "       [6, 7, 8]])"
      ]
     },
     "execution_count": 283,
     "metadata": {},
     "output_type": "execute_result"
    }
   ],
   "source": [
    "a=np.array([[1,2,3],[4,5,6],[6,7,8]])\n",
    "a"
   ]
  },
  {
   "cell_type": "code",
   "execution_count": 285,
   "id": "504022d7-0558-4277-8bd5-de28895692ca",
   "metadata": {},
   "outputs": [
    {
     "data": {
      "text/plain": [
       "array([1, 1, 2, 2, 3, 3, 4, 4, 5, 5, 6, 6, 6, 6, 7, 7, 8, 8])"
      ]
     },
     "execution_count": 285,
     "metadata": {},
     "output_type": "execute_result"
    }
   ],
   "source": [
    "np.repeat(a,2)\n",
    "#each element is repeated twice and the array is converted to 1 dimension"
   ]
  },
  {
   "cell_type": "code",
   "execution_count": 286,
   "id": "361b9d3e-72e2-4bd4-b108-b95caece3b51",
   "metadata": {},
   "outputs": [
    {
     "data": {
      "text/plain": [
       "array([[1, 1, 2, 2, 3, 3],\n",
       "       [4, 4, 5, 5, 6, 6],\n",
       "       [6, 6, 7, 7, 8, 8]])"
      ]
     },
     "execution_count": 286,
     "metadata": {},
     "output_type": "execute_result"
    }
   ],
   "source": [
    "np.repeat(a,2, axis =1)"
   ]
  },
  {
   "cell_type": "code",
   "execution_count": 287,
   "id": "f013ae0b-d057-414a-bc52-65aedcaca2bc",
   "metadata": {},
   "outputs": [
    {
     "data": {
      "text/plain": [
       "array([[1, 2, 3],\n",
       "       [1, 2, 3],\n",
       "       [4, 5, 6],\n",
       "       [4, 5, 6],\n",
       "       [6, 7, 8],\n",
       "       [6, 7, 8]])"
      ]
     },
     "execution_count": 287,
     "metadata": {},
     "output_type": "execute_result"
    }
   ],
   "source": [
    "np.repeat(a,2, axis =0)"
   ]
  },
  {
   "cell_type": "markdown",
   "id": "fd94257a-b9be-451c-af16-63ec5973c156",
   "metadata": {},
   "source": [
    "# Roll\n",
    "shuffles the position of row values by the parameter provided"
   ]
  },
  {
   "cell_type": "code",
   "execution_count": 289,
   "id": "4ba210a8-e492-4db8-8b94-44f7e1ea4f1b",
   "metadata": {},
   "outputs": [
    {
     "data": {
      "text/plain": [
       "array([[1],\n",
       "       [2],\n",
       "       [3]])"
      ]
     },
     "execution_count": 289,
     "metadata": {},
     "output_type": "execute_result"
    }
   ],
   "source": [
    "data=np.array([[1],[2],[3]])\n",
    "data"
   ]
  },
  {
   "cell_type": "code",
   "execution_count": 294,
   "id": "14365545-9f37-41a6-bbab-f605ed99a057",
   "metadata": {},
   "outputs": [
    {
     "data": {
      "text/plain": [
       "array([[2],\n",
       "       [3],\n",
       "       [1]])"
      ]
     },
     "execution_count": 294,
     "metadata": {},
     "output_type": "execute_result"
    }
   ],
   "source": [
    "np.roll(data,2)"
   ]
  },
  {
   "cell_type": "code",
   "execution_count": 295,
   "id": "3707f585-9cea-4fbc-a552-580e90220f53",
   "metadata": {},
   "outputs": [
    {
     "data": {
      "text/plain": [
       "array([[1, 2],\n",
       "       [2, 3],\n",
       "       [3, 4]])"
      ]
     },
     "execution_count": 295,
     "metadata": {},
     "output_type": "execute_result"
    }
   ],
   "source": [
    "data=np.array([[1,2],[2,3],[3,4]])\n",
    "data"
   ]
  },
  {
   "cell_type": "code",
   "execution_count": 296,
   "id": "0183d1cb-7e81-48fb-9528-61868bf29f62",
   "metadata": {},
   "outputs": [
    {
     "data": {
      "text/plain": [
       "array([[3, 4],\n",
       "       [1, 2],\n",
       "       [2, 3]])"
      ]
     },
     "execution_count": 296,
     "metadata": {},
     "output_type": "execute_result"
    }
   ],
   "source": [
    "np.roll(data, 2)"
   ]
  },
  {
   "cell_type": "markdown",
   "id": "f07defb2-2303-4be7-a2ce-d251a7864e1f",
   "metadata": {},
   "source": [
    "# Bitwise Negation\n",
    "--> negative(value - 1)"
   ]
  },
  {
   "cell_type": "code",
   "execution_count": 298,
   "id": "b7d389c5-f015-4921-9a84-890ad2f47862",
   "metadata": {},
   "outputs": [
    {
     "data": {
      "text/plain": [
       "array([[-2, -3],\n",
       "       [-3, -4],\n",
       "       [-4, -5]])"
      ]
     },
     "execution_count": 298,
     "metadata": {},
     "output_type": "execute_result"
    }
   ],
   "source": [
    "~data"
   ]
  },
  {
   "cell_type": "markdown",
   "id": "1f00a7c8-8012-42b0-84f7-e64ad06a9ca9",
   "metadata": {},
   "source": [
    "# Numpy String Function\n",
    "1. Uppercase\n",
    "2. Capitalize\n",
    "3. Title"
   ]
  },
  {
   "cell_type": "code",
   "execution_count": 312,
   "id": "fb9d06eb-625f-4397-8b35-6551866a60f2",
   "metadata": {},
   "outputs": [],
   "source": [
    "arr=np.array(['PW is good','SKILLS'])"
   ]
  },
  {
   "cell_type": "code",
   "execution_count": 313,
   "id": "1da660b6-fa60-4f6a-b0d2-fbacba2a1a22",
   "metadata": {},
   "outputs": [
    {
     "data": {
      "text/plain": [
       "array(['PW is good', 'SKILLS'], dtype='<U10')"
      ]
     },
     "execution_count": 313,
     "metadata": {},
     "output_type": "execute_result"
    }
   ],
   "source": [
    "arr"
   ]
  },
  {
   "cell_type": "code",
   "execution_count": 314,
   "id": "6d118af3-a3e3-425e-94c3-8952a947f21e",
   "metadata": {},
   "outputs": [
    {
     "data": {
      "text/plain": [
       "array(['PW IS GOOD', 'SKILLS'], dtype='<U10')"
      ]
     },
     "execution_count": 314,
     "metadata": {},
     "output_type": "execute_result"
    }
   ],
   "source": [
    "np.char.upper(arr)"
   ]
  },
  {
   "cell_type": "code",
   "execution_count": 315,
   "id": "06a25792-4d8e-44c6-876d-338d058bdb78",
   "metadata": {},
   "outputs": [
    {
     "data": {
      "text/plain": [
       "array(['pw is good', 'skills'], dtype='<U10')"
      ]
     },
     "execution_count": 315,
     "metadata": {},
     "output_type": "execute_result"
    }
   ],
   "source": [
    "np.char.lower(arr)"
   ]
  },
  {
   "cell_type": "code",
   "execution_count": 316,
   "id": "e8915e0d-04a3-413a-9426-d1840b420e0e",
   "metadata": {},
   "outputs": [
    {
     "data": {
      "text/plain": [
       "array(['Pw is good', 'Skills'], dtype='<U10')"
      ]
     },
     "execution_count": 316,
     "metadata": {},
     "output_type": "execute_result"
    }
   ],
   "source": [
    "np.char.capitalize(arr)"
   ]
  },
  {
   "cell_type": "code",
   "execution_count": 317,
   "id": "ad8049bc-c38f-412f-9819-b14dc9ed6346",
   "metadata": {},
   "outputs": [
    {
     "data": {
      "text/plain": [
       "array(['Pw Is Good', 'Skills'], dtype='<U10')"
      ]
     },
     "execution_count": 317,
     "metadata": {},
     "output_type": "execute_result"
    }
   ],
   "source": [
    "np.char.title(arr)"
   ]
  },
  {
   "cell_type": "markdown",
   "id": "b28bb031-f5f7-42fa-99a9-4707e8821588",
   "metadata": {},
   "source": [
    "# Numpy Mathematical Function"
   ]
  },
  {
   "cell_type": "code",
   "execution_count": 333,
   "id": "37d1f495-7a97-4c0a-a6c6-966031f976cb",
   "metadata": {},
   "outputs": [],
   "source": [
    "data=np.random.randint(2,10,(2,3),dtype=int)\n",
    "data1=np.random.randint(2,10,(2,3),dtype=int)"
   ]
  },
  {
   "cell_type": "code",
   "execution_count": 322,
   "id": "651efc9f-5748-471b-b758-c87dc575f129",
   "metadata": {},
   "outputs": [
    {
     "data": {
      "text/plain": [
       "array([[ 0.90929743, -0.7568025 , -0.95892427],\n",
       "       [ 0.98935825,  0.14112001,  0.90929743]])"
      ]
     },
     "execution_count": 322,
     "metadata": {},
     "output_type": "execute_result"
    }
   ],
   "source": [
    "np.sin(data)"
   ]
  },
  {
   "cell_type": "code",
   "execution_count": 323,
   "id": "2f1e28f8-ab77-43cc-945e-e5664a363d3e",
   "metadata": {},
   "outputs": [
    {
     "data": {
      "text/plain": [
       "array([[-0.41614684, -0.65364362,  0.28366219],\n",
       "       [-0.14550003, -0.9899925 , -0.41614684]])"
      ]
     },
     "execution_count": 323,
     "metadata": {},
     "output_type": "execute_result"
    }
   ],
   "source": [
    "np.cos(data)"
   ]
  },
  {
   "cell_type": "code",
   "execution_count": 324,
   "id": "8f1b623c-3285-4623-adc3-62af3ee3d305",
   "metadata": {},
   "outputs": [
    {
     "data": {
      "text/plain": [
       "array([[0.30103   , 0.60205999, 0.69897   ],\n",
       "       [0.90308999, 0.47712125, 0.30103   ]])"
      ]
     },
     "execution_count": 324,
     "metadata": {},
     "output_type": "execute_result"
    }
   ],
   "source": [
    "np.log10(data)"
   ]
  },
  {
   "cell_type": "code",
   "execution_count": 325,
   "id": "6c29fa64-8e51-4ba9-9ae4-14d87a965a61",
   "metadata": {},
   "outputs": [
    {
     "data": {
      "text/plain": [
       "array([[1.41421356, 2.        , 2.23606798],\n",
       "       [2.82842712, 1.73205081, 1.41421356]])"
      ]
     },
     "execution_count": 325,
     "metadata": {},
     "output_type": "execute_result"
    }
   ],
   "source": [
    "np.sqrt(data)"
   ]
  },
  {
   "cell_type": "code",
   "execution_count": 326,
   "id": "a0ea10f1-4fe1-4c2f-8407-0bf0d0d28b89",
   "metadata": {},
   "outputs": [
    {
     "data": {
      "text/plain": [
       "array([[   7.3890561 ,   54.59815003,  148.4131591 ],\n",
       "       [2980.95798704,   20.08553692,    7.3890561 ]])"
      ]
     },
     "execution_count": 326,
     "metadata": {},
     "output_type": "execute_result"
    }
   ],
   "source": [
    "np.exp(data)"
   ]
  },
  {
   "cell_type": "code",
   "execution_count": 328,
   "id": "74ab8052-3d77-4c6f-bead-7a85c1045967",
   "metadata": {},
   "outputs": [
    {
     "data": {
      "text/plain": [
       "array([[ 4, 16, 25],\n",
       "       [64,  9,  4]], dtype=int32)"
      ]
     },
     "execution_count": 328,
     "metadata": {},
     "output_type": "execute_result"
    }
   ],
   "source": [
    "np.power(data,2)"
   ]
  },
  {
   "cell_type": "code",
   "execution_count": 329,
   "id": "1905b570-e0ca-4d47-b3e6-b245e13d2848",
   "metadata": {},
   "outputs": [
    {
     "data": {
      "text/plain": [
       "4.0"
      ]
     },
     "execution_count": 329,
     "metadata": {},
     "output_type": "execute_result"
    }
   ],
   "source": [
    "np.mean(data)"
   ]
  },
  {
   "cell_type": "code",
   "execution_count": 330,
   "id": "b096ac1b-5bca-4da3-a87a-fa9eb46a4b8c",
   "metadata": {},
   "outputs": [
    {
     "data": {
      "text/plain": [
       "8"
      ]
     },
     "execution_count": 330,
     "metadata": {},
     "output_type": "execute_result"
    }
   ],
   "source": [
    "np.max(data)"
   ]
  },
  {
   "cell_type": "code",
   "execution_count": 331,
   "id": "bd4e177a-7d17-4903-b313-934bf4ec444f",
   "metadata": {},
   "outputs": [
    {
     "data": {
      "text/plain": [
       "2.0816659994661326"
      ]
     },
     "execution_count": 331,
     "metadata": {},
     "output_type": "execute_result"
    }
   ],
   "source": [
    "np.std(data)"
   ]
  },
  {
   "cell_type": "code",
   "execution_count": 332,
   "id": "8010203f-c405-4c5c-ac77-bad2c62bd3b1",
   "metadata": {},
   "outputs": [
    {
     "data": {
      "text/plain": [
       "4.333333333333333"
      ]
     },
     "execution_count": 332,
     "metadata": {},
     "output_type": "execute_result"
    }
   ],
   "source": [
    "np.var(data)"
   ]
  },
  {
   "cell_type": "code",
   "execution_count": 337,
   "id": "0e7d1607-70f4-4340-b4f0-95ecae6c363a",
   "metadata": {},
   "outputs": [
    {
     "data": {
      "text/plain": [
       "array([[63, 81, 45],\n",
       "       [12, 24, 63]])"
      ]
     },
     "execution_count": 337,
     "metadata": {},
     "output_type": "execute_result"
    }
   ],
   "source": [
    "np.multiply(data,data1)"
   ]
  },
  {
   "cell_type": "code",
   "execution_count": 376,
   "id": "3a31fab3-af46-4276-97e8-ebb96244f910",
   "metadata": {},
   "outputs": [
    {
     "data": {
      "text/plain": [
       "array([[ 2,  0, -4],\n",
       "       [ 4,  2, -2]])"
      ]
     },
     "execution_count": 376,
     "metadata": {},
     "output_type": "execute_result"
    }
   ],
   "source": [
    "np.subtract(data, data1)"
   ]
  },
  {
   "cell_type": "code",
   "execution_count": 340,
   "id": "40e25bdb-219f-4aac-90be-482ba10a997b",
   "metadata": {},
   "outputs": [
    {
     "data": {
      "text/plain": [
       "array([[2, 0, 5],\n",
       "       [0, 2, 7]])"
      ]
     },
     "execution_count": 340,
     "metadata": {},
     "output_type": "execute_result"
    }
   ],
   "source": [
    "np.mod(data,data1)"
   ]
  },
  {
   "cell_type": "markdown",
   "id": "6b2656c0-9ce7-4bc2-8650-262264e986cf",
   "metadata": {},
   "source": [
    "# Sort and Search in 1D Array"
   ]
  },
  {
   "cell_type": "code",
   "execution_count": 341,
   "id": "fc5abc99-904e-48bb-a90b-d2507bb1608d",
   "metadata": {},
   "outputs": [],
   "source": [
    "arr=np.array([5,6,7,8,4,3,5])"
   ]
  },
  {
   "cell_type": "code",
   "execution_count": 342,
   "id": "a27043db-1474-45e6-9275-03640dd18905",
   "metadata": {},
   "outputs": [
    {
     "data": {
      "text/plain": [
       "array([3, 4, 5, 5, 6, 7, 8])"
      ]
     },
     "execution_count": 342,
     "metadata": {},
     "output_type": "execute_result"
    }
   ],
   "source": [
    "np.sort(arr)"
   ]
  },
  {
   "cell_type": "code",
   "execution_count": 353,
   "id": "57e81bb8-1fef-43e4-941d-f3c29f0e9d33",
   "metadata": {},
   "outputs": [
    {
     "data": {
      "text/plain": [
       "7"
      ]
     },
     "execution_count": 353,
     "metadata": {},
     "output_type": "execute_result"
    }
   ],
   "source": [
    "np.searchsorted(arr,10)\n",
    "#Find indices where elements should be inserted to maintain order."
   ]
  },
  {
   "cell_type": "markdown",
   "id": "493b62b5-4980-4444-a041-3abfe69c6788",
   "metadata": {},
   "source": [
    "# Find Non Zero Element"
   ]
  },
  {
   "cell_type": "code",
   "execution_count": 354,
   "id": "5b84a0b3-bb67-48f5-9148-7ef118740d5f",
   "metadata": {},
   "outputs": [
    {
     "data": {
      "text/plain": [
       "array([5, 6, 7, 8, 4, 3, 5])"
      ]
     },
     "execution_count": 354,
     "metadata": {},
     "output_type": "execute_result"
    }
   ],
   "source": [
    "arr"
   ]
  },
  {
   "cell_type": "code",
   "execution_count": 355,
   "id": "8fd12e05-fa7f-4242-8698-6aacb006bfb2",
   "metadata": {},
   "outputs": [
    {
     "data": {
      "text/plain": [
       "7"
      ]
     },
     "execution_count": 355,
     "metadata": {},
     "output_type": "execute_result"
    }
   ],
   "source": [
    "np.count_nonzero(arr)"
   ]
  },
  {
   "cell_type": "markdown",
   "id": "bbb0bc38-0e1e-4756-af3c-9b0c99002aa4",
   "metadata": {},
   "source": [
    "# np.where\n",
    "when condtion is passed, output is indices"
   ]
  },
  {
   "cell_type": "code",
   "execution_count": 356,
   "id": "ff630e6c-6a53-4f96-9e89-e2f420093d37",
   "metadata": {},
   "outputs": [
    {
     "data": {
      "text/plain": [
       "(array([1, 2, 3], dtype=int64),)"
      ]
     },
     "execution_count": 356,
     "metadata": {},
     "output_type": "execute_result"
    }
   ],
   "source": [
    "np.where(arr>5)"
   ]
  },
  {
   "cell_type": "markdown",
   "id": "9396f5f3-6d58-4ccb-90cd-9d5d1d474979",
   "metadata": {},
   "source": [
    "# Extract Data where condition is passed\n",
    "when condition is passed, output is the values"
   ]
  },
  {
   "cell_type": "code",
   "execution_count": 360,
   "id": "2645f86f-3979-4404-8b98-f6c424a7fddd",
   "metadata": {},
   "outputs": [
    {
     "data": {
      "text/plain": [
       "array([6, 7, 8])"
      ]
     },
     "execution_count": 360,
     "metadata": {},
     "output_type": "execute_result"
    }
   ],
   "source": [
    "np.extract(arr>5, arr)"
   ]
  },
  {
   "cell_type": "markdown",
   "id": "c3271b47-0d73-48b5-bc89-489409da234f",
   "metadata": {},
   "source": [
    "# Convert Array to Byte representation"
   ]
  },
  {
   "cell_type": "code",
   "execution_count": 361,
   "id": "e13b302c-038b-4346-8280-38fd466b0435",
   "metadata": {},
   "outputs": [
    {
     "data": {
      "text/plain": [
       "array([ 83886080, 100663296, 117440512, 134217728,  67108864,  50331648,\n",
       "        83886080])"
      ]
     },
     "execution_count": 361,
     "metadata": {},
     "output_type": "execute_result"
    }
   ],
   "source": [
    "arr.byteswap()"
   ]
  },
  {
   "cell_type": "markdown",
   "id": "d8ec9a33-3d78-4ddb-9e76-64ce26ec2bce",
   "metadata": {},
   "source": [
    "# Matrix Library"
   ]
  },
  {
   "cell_type": "code",
   "execution_count": 364,
   "id": "9bdc44bb-0d68-4b94-8fd8-092eb4fe00b0",
   "metadata": {},
   "outputs": [
    {
     "data": {
      "text/plain": [
       "matrix([[0, 0, 0, 0, 0]])"
      ]
     },
     "execution_count": 364,
     "metadata": {},
     "output_type": "execute_result"
    }
   ],
   "source": [
    "import numpy.matlib as nm\n",
    "nm.zeros(5, dtype=int)"
   ]
  },
  {
   "cell_type": "code",
   "execution_count": 365,
   "id": "5d3f4abb-1596-4833-a03f-9213fc42f304",
   "metadata": {},
   "outputs": [
    {
     "data": {
      "text/plain": [
       "matrix([[1, 1, 1, 1],\n",
       "        [1, 1, 1, 1],\n",
       "        [1, 1, 1, 1]])"
      ]
     },
     "execution_count": 365,
     "metadata": {},
     "output_type": "execute_result"
    }
   ],
   "source": [
    "nm.ones((3,4),dtype=int)"
   ]
  },
  {
   "cell_type": "markdown",
   "id": "2b71793a-37f0-4f1d-8981-3d9586d90c45",
   "metadata": {},
   "source": [
    "# Numpy Linear Algebra"
   ]
  },
  {
   "cell_type": "code",
   "execution_count": 367,
   "id": "ec85dc4e-9141-4927-8135-915aa6fe6040",
   "metadata": {},
   "outputs": [
    {
     "data": {
      "text/plain": [
       "array([[3, 6, 8],\n",
       "       [5, 4, 9],\n",
       "       [3, 1, 3]])"
      ]
     },
     "execution_count": 367,
     "metadata": {},
     "output_type": "execute_result"
    }
   ],
   "source": [
    "a=np.random.randint(1,10,(3,3))\n",
    "a"
   ]
  },
  {
   "cell_type": "code",
   "execution_count": 372,
   "id": "f45a21a5-c9f3-408d-b9ea-9783620a207c",
   "metadata": {},
   "outputs": [
    {
     "data": {
      "text/plain": [
       "array([1, 2, 3])"
      ]
     },
     "execution_count": 372,
     "metadata": {},
     "output_type": "execute_result"
    }
   ],
   "source": [
    "b=np.array([1,2,3])\n",
    "b"
   ]
  },
  {
   "cell_type": "code",
   "execution_count": 373,
   "id": "33edc2bb-9d67-4379-9dfa-2fd74d2c6d1f",
   "metadata": {},
   "outputs": [
    {
     "data": {
      "text/plain": [
       "array([ 1.96,  0.84, -1.24])"
      ]
     },
     "execution_count": 373,
     "metadata": {},
     "output_type": "execute_result"
    }
   ],
   "source": [
    "np.linalg.solve(a,b)"
   ]
  },
  {
   "cell_type": "markdown",
   "id": "e32b4f1e-d60c-4dfb-9549-18573c425e90",
   "metadata": {},
   "source": [
    "# Numpy Determinant of a Matrix"
   ]
  },
  {
   "cell_type": "code",
   "execution_count": 374,
   "id": "407cbee0-f33d-46a8-b69c-7b5610e8cb49",
   "metadata": {},
   "outputs": [
    {
     "data": {
      "text/plain": [
       "24.999999999999996"
      ]
     },
     "execution_count": 374,
     "metadata": {},
     "output_type": "execute_result"
    }
   ],
   "source": [
    "np.linalg.det(a)"
   ]
  },
  {
   "cell_type": "markdown",
   "id": "504971b0-777d-42d2-971b-ebcd9c3c37ed",
   "metadata": {},
   "source": [
    "# Numpy Inverse of a Matrix"
   ]
  },
  {
   "cell_type": "code",
   "execution_count": 375,
   "id": "faf2bf58-889d-4af2-8582-3cbdbe77c6ca",
   "metadata": {},
   "outputs": [
    {
     "data": {
      "text/plain": [
       "array([[ 0.12, -0.4 ,  0.88],\n",
       "       [ 0.48, -0.6 ,  0.52],\n",
       "       [-0.28,  0.6 , -0.72]])"
      ]
     },
     "execution_count": 375,
     "metadata": {},
     "output_type": "execute_result"
    }
   ],
   "source": [
    "np.linalg.inv(a)"
   ]
  },
  {
   "cell_type": "code",
   "execution_count": null,
   "id": "06142d68-15b0-4714-b2b4-92357aef515a",
   "metadata": {},
   "outputs": [],
   "source": []
  }
 ],
 "metadata": {
  "kernelspec": {
   "display_name": "Python 3 (ipykernel)",
   "language": "python",
   "name": "python3"
  },
  "language_info": {
   "codemirror_mode": {
    "name": "ipython",
    "version": 3
   },
   "file_extension": ".py",
   "mimetype": "text/x-python",
   "name": "python",
   "nbconvert_exporter": "python",
   "pygments_lexer": "ipython3",
   "version": "3.11.7"
  }
 },
 "nbformat": 4,
 "nbformat_minor": 5
}
